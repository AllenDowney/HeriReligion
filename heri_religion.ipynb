{
 "metadata": {
  "name": "",
  "signature": "sha256:ddf663c2ba5673ae6ca7ef53e66ab440d1ff24535577cd7f4e5b323f2451f80b"
 },
 "nbformat": 3,
 "nbformat_minor": 0,
 "worksheets": [
  {
   "cells": [
    {
     "cell_type": "code",
     "collapsed": false,
     "input": [
      "import savReaderWriter as s\n",
      "import pandas as pd\n",
      "import numpy as np\n",
      "\n",
      "%matplotlib inline"
     ],
     "language": "python",
     "metadata": {},
     "outputs": [],
     "prompt_number": 1
    },
    {
     "cell_type": "code",
     "collapsed": false,
     "input": [
      "dem = pd.read_pickle('dem.pkl')\n",
      "dem.shape"
     ],
     "language": "python",
     "metadata": {},
     "outputs": [
      {
       "metadata": {},
       "output_type": "pyout",
       "prompt_number": 82,
       "text": [
        "(1008802, 14)"
       ]
      }
     ],
     "prompt_number": 82
    },
    {
     "cell_type": "code",
     "collapsed": false,
     "input": [
      "# TODO: consider making a MultiIndex with (year, subjid) \n",
      "# http://pandas.pydata.org/pandas-docs/stable/advanced.html\n",
      "\n",
      "len(set(dem.index))"
     ],
     "language": "python",
     "metadata": {},
     "outputs": [
      {
       "metadata": {},
       "output_type": "pyout",
       "prompt_number": 83,
       "text": [
        "549496"
       ]
      }
     ],
     "prompt_number": 83
    },
    {
     "cell_type": "code",
     "collapsed": false,
     "input": [
      "dem.head()"
     ],
     "language": "python",
     "metadata": {},
     "outputs": [
      {
       "html": [
        "<div style=\"max-height:1000px;max-width:1500px;overflow:auto;\">\n",
        "<table border=\"1\" class=\"dataframe\">\n",
        "  <thead>\n",
        "    <tr style=\"text-align: right;\">\n",
        "      <th></th>\n",
        "      <th>YEAR</th>\n",
        "      <th>SUBJID</th>\n",
        "      <th>SEX</th>\n",
        "      <th>AGE1</th>\n",
        "      <th>AGE2</th>\n",
        "      <th>RRACE</th>\n",
        "      <th>RACEGROUP</th>\n",
        "      <th>INCOME</th>\n",
        "      <th>FATHEDUC</th>\n",
        "      <th>MOTHEDUC</th>\n",
        "      <th>FIRSTGEN</th>\n",
        "      <th>FRELIGIONA</th>\n",
        "      <th>MRELIGIONA</th>\n",
        "      <th>SRELIGIONA</th>\n",
        "    </tr>\n",
        "    <tr>\n",
        "      <th>SUBJID</th>\n",
        "      <th></th>\n",
        "      <th></th>\n",
        "      <th></th>\n",
        "      <th></th>\n",
        "      <th></th>\n",
        "      <th></th>\n",
        "      <th></th>\n",
        "      <th></th>\n",
        "      <th></th>\n",
        "      <th></th>\n",
        "      <th></th>\n",
        "      <th></th>\n",
        "      <th></th>\n",
        "      <th></th>\n",
        "    </tr>\n",
        "  </thead>\n",
        "  <tbody>\n",
        "    <tr>\n",
        "      <th>520562</th>\n",
        "      <td> 1996</td>\n",
        "      <td> 520562</td>\n",
        "      <td> 1</td>\n",
        "      <td> 3</td>\n",
        "      <td> 3</td>\n",
        "      <td> 2</td>\n",
        "      <td> 3</td>\n",
        "      <td> 18</td>\n",
        "      <td> 8</td>\n",
        "      <td> 8</td>\n",
        "      <td> 1</td>\n",
        "      <td>  1</td>\n",
        "      <td>  1</td>\n",
        "      <td> 1</td>\n",
        "    </tr>\n",
        "    <tr>\n",
        "      <th>520563</th>\n",
        "      <td> 1996</td>\n",
        "      <td> 520563</td>\n",
        "      <td> 1</td>\n",
        "      <td> 3</td>\n",
        "      <td> 3</td>\n",
        "      <td> 2</td>\n",
        "      <td> 3</td>\n",
        "      <td> 13</td>\n",
        "      <td> 0</td>\n",
        "      <td> 6</td>\n",
        "      <td> 1</td>\n",
        "      <td>NaN</td>\n",
        "      <td>NaN</td>\n",
        "      <td> 1</td>\n",
        "    </tr>\n",
        "    <tr>\n",
        "      <th>520565</th>\n",
        "      <td> 1996</td>\n",
        "      <td> 520565</td>\n",
        "      <td> 1</td>\n",
        "      <td> 4</td>\n",
        "      <td> 4</td>\n",
        "      <td> 2</td>\n",
        "      <td> 3</td>\n",
        "      <td>  7</td>\n",
        "      <td> 0</td>\n",
        "      <td> 3</td>\n",
        "      <td> 2</td>\n",
        "      <td>NaN</td>\n",
        "      <td>  1</td>\n",
        "      <td> 1</td>\n",
        "    </tr>\n",
        "    <tr>\n",
        "      <th>520567</th>\n",
        "      <td> 1996</td>\n",
        "      <td> 520567</td>\n",
        "      <td> 2</td>\n",
        "      <td> 3</td>\n",
        "      <td> 3</td>\n",
        "      <td> 2</td>\n",
        "      <td> 3</td>\n",
        "      <td> 13</td>\n",
        "      <td> 6</td>\n",
        "      <td> 6</td>\n",
        "      <td> 1</td>\n",
        "      <td>  2</td>\n",
        "      <td>  2</td>\n",
        "      <td> 2</td>\n",
        "    </tr>\n",
        "    <tr>\n",
        "      <th>520569</th>\n",
        "      <td> 1996</td>\n",
        "      <td> 520569</td>\n",
        "      <td> 1</td>\n",
        "      <td> 3</td>\n",
        "      <td> 3</td>\n",
        "      <td> 2</td>\n",
        "      <td> 3</td>\n",
        "      <td>  9</td>\n",
        "      <td> 1</td>\n",
        "      <td> 2</td>\n",
        "      <td> 2</td>\n",
        "      <td>  5</td>\n",
        "      <td>  5</td>\n",
        "      <td> 5</td>\n",
        "    </tr>\n",
        "  </tbody>\n",
        "</table>\n",
        "</div>"
       ],
       "metadata": {},
       "output_type": "pyout",
       "prompt_number": 84,
       "text": [
        "        YEAR  SUBJID  SEX  AGE1  AGE2  RRACE  RACEGROUP  INCOME  FATHEDUC  \\\n",
        "SUBJID                                                                      \n",
        "520562  1996  520562    1     3     3      2          3      18         8   \n",
        "520563  1996  520563    1     3     3      2          3      13         0   \n",
        "520565  1996  520565    1     4     4      2          3       7         0   \n",
        "520567  1996  520567    2     3     3      2          3      13         6   \n",
        "520569  1996  520569    1     3     3      2          3       9         1   \n",
        "\n",
        "        MOTHEDUC  FIRSTGEN  FRELIGIONA  MRELIGIONA  SRELIGIONA  \n",
        "SUBJID                                                          \n",
        "520562         8         1           1           1           1  \n",
        "520563         6         1         NaN         NaN           1  \n",
        "520565         3         2         NaN           1           1  \n",
        "520567         6         1           2           2           2  \n",
        "520569         2         2           5           5           5  "
       ]
      }
     ],
     "prompt_number": 84
    },
    {
     "cell_type": "code",
     "collapsed": false,
     "input": [
      "hs = pd.read_pickle('hs.pkl')\n",
      "hs.shape"
     ],
     "language": "python",
     "metadata": {},
     "outputs": [
      {
       "metadata": {},
       "output_type": "pyout",
       "prompt_number": 85,
       "text": [
        "(1008802, 41)"
       ]
      }
     ],
     "prompt_number": 85
    },
    {
     "cell_type": "code",
     "collapsed": false,
     "input": [
      "len(set(dem.index))"
     ],
     "language": "python",
     "metadata": {},
     "outputs": [
      {
       "metadata": {},
       "output_type": "pyout",
       "prompt_number": 86,
       "text": [
        "549496"
       ]
      }
     ],
     "prompt_number": 86
    },
    {
     "cell_type": "code",
     "collapsed": false,
     "input": [
      "hs.tail()"
     ],
     "language": "python",
     "metadata": {},
     "outputs": [
      {
       "html": [
        "<div style=\"max-height:1000px;max-width:1500px;overflow:auto;\">\n",
        "<table border=\"1\" class=\"dataframe\">\n",
        "  <thead>\n",
        "    <tr style=\"text-align: right;\">\n",
        "      <th></th>\n",
        "      <th>YEAR</th>\n",
        "      <th>SUBJID</th>\n",
        "      <th>HSGPA</th>\n",
        "      <th>SATV</th>\n",
        "      <th>SATM</th>\n",
        "      <th>SATW</th>\n",
        "      <th>ACTCOMP</th>\n",
        "      <th>ACT01</th>\n",
        "      <th>ACT02</th>\n",
        "      <th>ACT03</th>\n",
        "      <th>...</th>\n",
        "      <th>ACT29</th>\n",
        "      <th>ACT30</th>\n",
        "      <th>ACT31</th>\n",
        "      <th>ACT32</th>\n",
        "      <th>ACT33</th>\n",
        "      <th>ACT17_T</th>\n",
        "      <th>ACT21_T</th>\n",
        "      <th>ACT23_T</th>\n",
        "      <th>ACT24_T</th>\n",
        "      <th>ACT26_T</th>\n",
        "    </tr>\n",
        "    <tr>\n",
        "      <th>SUBJID</th>\n",
        "      <th></th>\n",
        "      <th></th>\n",
        "      <th></th>\n",
        "      <th></th>\n",
        "      <th></th>\n",
        "      <th></th>\n",
        "      <th></th>\n",
        "      <th></th>\n",
        "      <th></th>\n",
        "      <th></th>\n",
        "      <th></th>\n",
        "      <th></th>\n",
        "      <th></th>\n",
        "      <th></th>\n",
        "      <th></th>\n",
        "      <th></th>\n",
        "      <th></th>\n",
        "      <th></th>\n",
        "      <th></th>\n",
        "      <th></th>\n",
        "      <th></th>\n",
        "    </tr>\n",
        "  </thead>\n",
        "  <tbody>\n",
        "    <tr>\n",
        "      <th>462786</th>\n",
        "      <td> 1999</td>\n",
        "      <td> 462786</td>\n",
        "      <td> 6</td>\n",
        "      <td> 435</td>\n",
        "      <td> 410</td>\n",
        "      <td>NaN</td>\n",
        "      <td>NaN</td>\n",
        "      <td> 2</td>\n",
        "      <td> 1</td>\n",
        "      <td> 2</td>\n",
        "      <td>...</td>\n",
        "      <td> 3</td>\n",
        "      <td> 2</td>\n",
        "      <td> 1</td>\n",
        "      <td> 1</td>\n",
        "      <td> 1</td>\n",
        "      <td> 1</td>\n",
        "      <td> 1</td>\n",
        "      <td> 1</td>\n",
        "      <td> 2</td>\n",
        "      <td> 1</td>\n",
        "    </tr>\n",
        "    <tr>\n",
        "      <th>462787</th>\n",
        "      <td> 1999</td>\n",
        "      <td> 462787</td>\n",
        "      <td> 7</td>\n",
        "      <td> 510</td>\n",
        "      <td> 510</td>\n",
        "      <td>NaN</td>\n",
        "      <td> 24</td>\n",
        "      <td> 3</td>\n",
        "      <td> 1</td>\n",
        "      <td> 3</td>\n",
        "      <td>...</td>\n",
        "      <td> 2</td>\n",
        "      <td> 1</td>\n",
        "      <td> 2</td>\n",
        "      <td> 2</td>\n",
        "      <td> 2</td>\n",
        "      <td> 1</td>\n",
        "      <td> 1</td>\n",
        "      <td> 1</td>\n",
        "      <td> 3</td>\n",
        "      <td> 1</td>\n",
        "    </tr>\n",
        "    <tr>\n",
        "      <th>462788</th>\n",
        "      <td> 1999</td>\n",
        "      <td> 462788</td>\n",
        "      <td> 5</td>\n",
        "      <td> NaN</td>\n",
        "      <td> NaN</td>\n",
        "      <td>NaN</td>\n",
        "      <td>NaN</td>\n",
        "      <td> 3</td>\n",
        "      <td> 2</td>\n",
        "      <td> 1</td>\n",
        "      <td>...</td>\n",
        "      <td> 3</td>\n",
        "      <td> 1</td>\n",
        "      <td> 1</td>\n",
        "      <td> 1</td>\n",
        "      <td> 3</td>\n",
        "      <td> 2</td>\n",
        "      <td> 2</td>\n",
        "      <td> 2</td>\n",
        "      <td> 2</td>\n",
        "      <td> 2</td>\n",
        "    </tr>\n",
        "    <tr>\n",
        "      <th>462789</th>\n",
        "      <td> 1999</td>\n",
        "      <td> 462789</td>\n",
        "      <td> 5</td>\n",
        "      <td> 560</td>\n",
        "      <td> 520</td>\n",
        "      <td>NaN</td>\n",
        "      <td> 22</td>\n",
        "      <td> 1</td>\n",
        "      <td> 2</td>\n",
        "      <td> 1</td>\n",
        "      <td>...</td>\n",
        "      <td> 3</td>\n",
        "      <td> 1</td>\n",
        "      <td> 2</td>\n",
        "      <td> 1</td>\n",
        "      <td> 3</td>\n",
        "      <td> 3</td>\n",
        "      <td> 3</td>\n",
        "      <td> 1</td>\n",
        "      <td> 3</td>\n",
        "      <td> 2</td>\n",
        "    </tr>\n",
        "    <tr>\n",
        "      <th>462790</th>\n",
        "      <td> 1999</td>\n",
        "      <td> 462790</td>\n",
        "      <td> 4</td>\n",
        "      <td> 450</td>\n",
        "      <td> 720</td>\n",
        "      <td>NaN</td>\n",
        "      <td>NaN</td>\n",
        "      <td> 2</td>\n",
        "      <td> 2</td>\n",
        "      <td> 2</td>\n",
        "      <td>...</td>\n",
        "      <td> 3</td>\n",
        "      <td> 2</td>\n",
        "      <td> 2</td>\n",
        "      <td> 1</td>\n",
        "      <td> 1</td>\n",
        "      <td> 3</td>\n",
        "      <td> 2</td>\n",
        "      <td> 2</td>\n",
        "      <td> 2</td>\n",
        "      <td> 2</td>\n",
        "    </tr>\n",
        "  </tbody>\n",
        "</table>\n",
        "<p>5 rows \u00d7 41 columns</p>\n",
        "</div>"
       ],
       "metadata": {},
       "output_type": "pyout",
       "prompt_number": 87,
       "text": [
        "        YEAR  SUBJID  HSGPA  SATV  SATM  SATW  ACTCOMP  ACT01  ACT02  ACT03  \\\n",
        "SUBJID                                                                        \n",
        "462786  1999  462786      6   435   410   NaN      NaN      2      1      2   \n",
        "462787  1999  462787      7   510   510   NaN       24      3      1      3   \n",
        "462788  1999  462788      5   NaN   NaN   NaN      NaN      3      2      1   \n",
        "462789  1999  462789      5   560   520   NaN       22      1      2      1   \n",
        "462790  1999  462790      4   450   720   NaN      NaN      2      2      2   \n",
        "\n",
        "         ...     ACT29  ACT30  ACT31  ACT32  ACT33  ACT17_T  ACT21_T  ACT23_T  \\\n",
        "SUBJID   ...                                                                    \n",
        "462786   ...         3      2      1      1      1        1        1        1   \n",
        "462787   ...         2      1      2      2      2        1        1        1   \n",
        "462788   ...         3      1      1      1      3        2        2        2   \n",
        "462789   ...         3      1      2      1      3        3        3        1   \n",
        "462790   ...         3      2      2      1      1        3        2        2   \n",
        "\n",
        "        ACT24_T  ACT26_T  \n",
        "SUBJID                    \n",
        "462786        2        1  \n",
        "462787        3        1  \n",
        "462788        2        2  \n",
        "462789        3        2  \n",
        "462790        2        2  \n",
        "\n",
        "[5 rows x 41 columns]"
       ]
      }
     ],
     "prompt_number": 87
    },
    {
     "cell_type": "code",
     "collapsed": false,
     "input": [
      "dems = dem.groupby('YEAR')\n",
      "hss = hs.groupby('YEAR')\n",
      "\n",
      "for name, group in dems:\n",
      "    print(name)"
     ],
     "language": "python",
     "metadata": {},
     "outputs": [
      {
       "output_type": "stream",
       "stream": "stdout",
       "text": [
        "1996.0\n",
        "1997.0\n",
        "1998.0\n",
        "1999.0\n"
       ]
      }
     ],
     "prompt_number": 88
    },
    {
     "cell_type": "code",
     "collapsed": false,
     "input": [
      "for name, group in dems:\n",
      "    n = len(group)\n",
      "    m = len(set(group.index))\n",
      "    print(name, n, m, n-m, min(group.index), max(group.index))"
     ],
     "language": "python",
     "metadata": {},
     "outputs": [
      {
       "output_type": "stream",
       "stream": "stdout",
       "text": [
        "(1996.0, 240565, 240565, 0, 100001.0, 679935.0)\n",
        "(1997.0, 243040, 243040, 0, 1.0, 544792.0)"
       ]
      },
      {
       "output_type": "stream",
       "stream": "stdout",
       "text": [
        "\n",
        "(1998.0, 270234, 270234, 0, 4301.0, 770452.0)"
       ]
      },
      {
       "output_type": "stream",
       "stream": "stdout",
       "text": [
        "\n",
        "(1999.0, 254963, 254963, 0, 18.0, 588301.0)"
       ]
      },
      {
       "output_type": "stream",
       "stream": "stdout",
       "text": [
        "\n"
       ]
      }
     ],
     "prompt_number": 89
    },
    {
     "cell_type": "code",
     "collapsed": false,
     "input": [
      "for name, group in hss:\n",
      "    n = len(group)\n",
      "    m = len(set(group.index))\n",
      "    print(name, n, m, n-m, min(group.index), max(group.index) )\n",
      "    "
     ],
     "language": "python",
     "metadata": {},
     "outputs": [
      {
       "output_type": "stream",
       "stream": "stdout",
       "text": [
        "(1996.0, 240565, 240565, 0, 100001.0, 679935.0)\n",
        "(1997.0, 243040, 243040, 0, 1.0, 544792.0)"
       ]
      },
      {
       "output_type": "stream",
       "stream": "stdout",
       "text": [
        "\n",
        "(1998.0, 270234, 270234, 0, 4301.0, 770452.0)"
       ]
      },
      {
       "output_type": "stream",
       "stream": "stdout",
       "text": [
        "\n",
        "(1999.0, 254963, 254963, 0, 18.0, 588301.0)"
       ]
      },
      {
       "output_type": "stream",
       "stream": "stdout",
       "text": [
        "\n"
       ]
      }
     ],
     "prompt_number": 90
    },
    {
     "cell_type": "code",
     "collapsed": false,
     "input": [
      "joined = {}\n",
      "for name, group1 in dems:\n",
      "    group2 = hss.get_group(name)\n",
      "    n = len(group1)\n",
      "    m = len(group2)\n",
      "    print(name, n, m, n-m)\n",
      "    try:\n",
      "        joined[name] = pd.concat([group1, group2], axis=1)\n",
      "    except pd.core.index.InvalidIndexError:\n",
      "        # TODO: deal with the years that have duplicate SUBJID\n",
      "        pass"
     ],
     "language": "python",
     "metadata": {},
     "outputs": [
      {
       "output_type": "stream",
       "stream": "stdout",
       "text": [
        "(1996.0, 240565, 240565, 0)\n",
        "(1997.0, 243040, 243040, 0)"
       ]
      },
      {
       "output_type": "stream",
       "stream": "stdout",
       "text": [
        "\n",
        "(1998.0, 270234, 270234, 0)"
       ]
      },
      {
       "output_type": "stream",
       "stream": "stdout",
       "text": [
        "\n",
        "(1999.0, 254963, 254963, 0)"
       ]
      },
      {
       "output_type": "stream",
       "stream": "stdout",
       "text": [
        "\n"
       ]
      }
     ],
     "prompt_number": 91
    },
    {
     "cell_type": "code",
     "collapsed": false,
     "input": [
      "df = joined[1999.0]\n",
      "df.head()"
     ],
     "language": "python",
     "metadata": {},
     "outputs": [
      {
       "html": [
        "<div style=\"max-height:1000px;max-width:1500px;overflow:auto;\">\n",
        "<table border=\"1\" class=\"dataframe\">\n",
        "  <thead>\n",
        "    <tr style=\"text-align: right;\">\n",
        "      <th></th>\n",
        "      <th>YEAR</th>\n",
        "      <th>SUBJID</th>\n",
        "      <th>SEX</th>\n",
        "      <th>AGE1</th>\n",
        "      <th>AGE2</th>\n",
        "      <th>RRACE</th>\n",
        "      <th>RACEGROUP</th>\n",
        "      <th>INCOME</th>\n",
        "      <th>FATHEDUC</th>\n",
        "      <th>MOTHEDUC</th>\n",
        "      <th>...</th>\n",
        "      <th>ACT29</th>\n",
        "      <th>ACT30</th>\n",
        "      <th>ACT31</th>\n",
        "      <th>ACT32</th>\n",
        "      <th>ACT33</th>\n",
        "      <th>ACT17_T</th>\n",
        "      <th>ACT21_T</th>\n",
        "      <th>ACT23_T</th>\n",
        "      <th>ACT24_T</th>\n",
        "      <th>ACT26_T</th>\n",
        "    </tr>\n",
        "    <tr>\n",
        "      <th>SUBJID</th>\n",
        "      <th></th>\n",
        "      <th></th>\n",
        "      <th></th>\n",
        "      <th></th>\n",
        "      <th></th>\n",
        "      <th></th>\n",
        "      <th></th>\n",
        "      <th></th>\n",
        "      <th></th>\n",
        "      <th></th>\n",
        "      <th></th>\n",
        "      <th></th>\n",
        "      <th></th>\n",
        "      <th></th>\n",
        "      <th></th>\n",
        "      <th></th>\n",
        "      <th></th>\n",
        "      <th></th>\n",
        "      <th></th>\n",
        "      <th></th>\n",
        "      <th></th>\n",
        "    </tr>\n",
        "  </thead>\n",
        "  <tbody>\n",
        "    <tr>\n",
        "      <th>18</th>\n",
        "      <td> 1999</td>\n",
        "      <td> 18</td>\n",
        "      <td> 1</td>\n",
        "      <td> 3</td>\n",
        "      <td> 3</td>\n",
        "      <td> 2</td>\n",
        "      <td> 2</td>\n",
        "      <td> 13</td>\n",
        "      <td> 8</td>\n",
        "      <td> 8</td>\n",
        "      <td>...</td>\n",
        "      <td> 3</td>\n",
        "      <td> 1</td>\n",
        "      <td> 2</td>\n",
        "      <td> 1</td>\n",
        "      <td> 2</td>\n",
        "      <td> 2</td>\n",
        "      <td> 2</td>\n",
        "      <td> 2</td>\n",
        "      <td> 2</td>\n",
        "      <td> 3</td>\n",
        "    </tr>\n",
        "    <tr>\n",
        "      <th>19</th>\n",
        "      <td> 1999</td>\n",
        "      <td> 19</td>\n",
        "      <td> 1</td>\n",
        "      <td> 4</td>\n",
        "      <td> 4</td>\n",
        "      <td> 2</td>\n",
        "      <td> 7</td>\n",
        "      <td>  5</td>\n",
        "      <td> 8</td>\n",
        "      <td> 6</td>\n",
        "      <td>...</td>\n",
        "      <td> 3</td>\n",
        "      <td> 1</td>\n",
        "      <td> 2</td>\n",
        "      <td> 1</td>\n",
        "      <td> 2</td>\n",
        "      <td> 3</td>\n",
        "      <td> 3</td>\n",
        "      <td> 1</td>\n",
        "      <td> 2</td>\n",
        "      <td> 3</td>\n",
        "    </tr>\n",
        "    <tr>\n",
        "      <th>22</th>\n",
        "      <td> 1999</td>\n",
        "      <td> 22</td>\n",
        "      <td> 1</td>\n",
        "      <td> 4</td>\n",
        "      <td> 4</td>\n",
        "      <td> 2</td>\n",
        "      <td> 2</td>\n",
        "      <td>  7</td>\n",
        "      <td> 8</td>\n",
        "      <td> 8</td>\n",
        "      <td>...</td>\n",
        "      <td> 3</td>\n",
        "      <td> 2</td>\n",
        "      <td> 1</td>\n",
        "      <td> 2</td>\n",
        "      <td> 3</td>\n",
        "      <td> 3</td>\n",
        "      <td> 3</td>\n",
        "      <td> 2</td>\n",
        "      <td> 1</td>\n",
        "      <td> 2</td>\n",
        "    </tr>\n",
        "    <tr>\n",
        "      <th>24</th>\n",
        "      <td> 1999</td>\n",
        "      <td> 24</td>\n",
        "      <td> 1</td>\n",
        "      <td> 3</td>\n",
        "      <td> 3</td>\n",
        "      <td> 2</td>\n",
        "      <td> 3</td>\n",
        "      <td>  9</td>\n",
        "      <td> 4</td>\n",
        "      <td> 2</td>\n",
        "      <td>...</td>\n",
        "      <td> 2</td>\n",
        "      <td> 1</td>\n",
        "      <td> 2</td>\n",
        "      <td> 1</td>\n",
        "      <td> 2</td>\n",
        "      <td> 1</td>\n",
        "      <td> 1</td>\n",
        "      <td> 1</td>\n",
        "      <td> 2</td>\n",
        "      <td> 1</td>\n",
        "    </tr>\n",
        "    <tr>\n",
        "      <th>26</th>\n",
        "      <td> 1999</td>\n",
        "      <td> 26</td>\n",
        "      <td> 1</td>\n",
        "      <td> 3</td>\n",
        "      <td> 3</td>\n",
        "      <td> 2</td>\n",
        "      <td> 5</td>\n",
        "      <td> 20</td>\n",
        "      <td> 8</td>\n",
        "      <td> 6</td>\n",
        "      <td>...</td>\n",
        "      <td> 3</td>\n",
        "      <td> 2</td>\n",
        "      <td> 3</td>\n",
        "      <td> 1</td>\n",
        "      <td> 2</td>\n",
        "      <td> 2</td>\n",
        "      <td> 2</td>\n",
        "      <td> 2</td>\n",
        "      <td> 2</td>\n",
        "      <td> 1</td>\n",
        "    </tr>\n",
        "  </tbody>\n",
        "</table>\n",
        "<p>5 rows \u00d7 55 columns</p>\n",
        "</div>"
       ],
       "metadata": {},
       "output_type": "pyout",
       "prompt_number": 92,
       "text": [
        "        YEAR  SUBJID  SEX  AGE1  AGE2  RRACE  RACEGROUP  INCOME  FATHEDUC  \\\n",
        "SUBJID                                                                      \n",
        "18      1999      18    1     3     3      2          2      13         8   \n",
        "19      1999      19    1     4     4      2          7       5         8   \n",
        "22      1999      22    1     4     4      2          2       7         8   \n",
        "24      1999      24    1     3     3      2          3       9         4   \n",
        "26      1999      26    1     3     3      2          5      20         8   \n",
        "\n",
        "        MOTHEDUC   ...     ACT29  ACT30  ACT31  ACT32  ACT33  ACT17_T  \\\n",
        "SUBJID             ...                                                  \n",
        "18             8   ...         3      1      2      1      2        2   \n",
        "19             6   ...         3      1      2      1      2        3   \n",
        "22             8   ...         3      2      1      2      3        3   \n",
        "24             2   ...         2      1      2      1      2        1   \n",
        "26             6   ...         3      2      3      1      2        2   \n",
        "\n",
        "        ACT21_T  ACT23_T  ACT24_T  ACT26_T  \n",
        "SUBJID                                      \n",
        "18            2        2        2        3  \n",
        "19            3        1        2        3  \n",
        "22            3        2        1        2  \n",
        "24            1        1        2        1  \n",
        "26            2        2        2        1  \n",
        "\n",
        "[5 rows x 55 columns]"
       ]
      }
     ],
     "prompt_number": 92
    },
    {
     "cell_type": "code",
     "collapsed": false,
     "input": [
      "df.tail()"
     ],
     "language": "python",
     "metadata": {},
     "outputs": [
      {
       "html": [
        "<div style=\"max-height:1000px;max-width:1500px;overflow:auto;\">\n",
        "<table border=\"1\" class=\"dataframe\">\n",
        "  <thead>\n",
        "    <tr style=\"text-align: right;\">\n",
        "      <th></th>\n",
        "      <th>YEAR</th>\n",
        "      <th>SUBJID</th>\n",
        "      <th>SEX</th>\n",
        "      <th>AGE1</th>\n",
        "      <th>AGE2</th>\n",
        "      <th>RRACE</th>\n",
        "      <th>RACEGROUP</th>\n",
        "      <th>INCOME</th>\n",
        "      <th>FATHEDUC</th>\n",
        "      <th>MOTHEDUC</th>\n",
        "      <th>...</th>\n",
        "      <th>ACT29</th>\n",
        "      <th>ACT30</th>\n",
        "      <th>ACT31</th>\n",
        "      <th>ACT32</th>\n",
        "      <th>ACT33</th>\n",
        "      <th>ACT17_T</th>\n",
        "      <th>ACT21_T</th>\n",
        "      <th>ACT23_T</th>\n",
        "      <th>ACT24_T</th>\n",
        "      <th>ACT26_T</th>\n",
        "    </tr>\n",
        "    <tr>\n",
        "      <th>SUBJID</th>\n",
        "      <th></th>\n",
        "      <th></th>\n",
        "      <th></th>\n",
        "      <th></th>\n",
        "      <th></th>\n",
        "      <th></th>\n",
        "      <th></th>\n",
        "      <th></th>\n",
        "      <th></th>\n",
        "      <th></th>\n",
        "      <th></th>\n",
        "      <th></th>\n",
        "      <th></th>\n",
        "      <th></th>\n",
        "      <th></th>\n",
        "      <th></th>\n",
        "      <th></th>\n",
        "      <th></th>\n",
        "      <th></th>\n",
        "      <th></th>\n",
        "      <th></th>\n",
        "    </tr>\n",
        "  </thead>\n",
        "  <tbody>\n",
        "    <tr>\n",
        "      <th>588290</th>\n",
        "      <td> 1999</td>\n",
        "      <td> 588290</td>\n",
        "      <td> 2</td>\n",
        "      <td>  4</td>\n",
        "      <td>  4</td>\n",
        "      <td> 2</td>\n",
        "      <td>  3</td>\n",
        "      <td>  5</td>\n",
        "      <td> 6</td>\n",
        "      <td> 5</td>\n",
        "      <td>...</td>\n",
        "      <td>  3</td>\n",
        "      <td>  1</td>\n",
        "      <td>  1</td>\n",
        "      <td>  1</td>\n",
        "      <td>  3</td>\n",
        "      <td> 3</td>\n",
        "      <td> 3</td>\n",
        "      <td> 1</td>\n",
        "      <td> 3</td>\n",
        "      <td> 1</td>\n",
        "    </tr>\n",
        "    <tr>\n",
        "      <th>588293</th>\n",
        "      <td> 1999</td>\n",
        "      <td> 588293</td>\n",
        "      <td> 1</td>\n",
        "      <td>  4</td>\n",
        "      <td>  4</td>\n",
        "      <td> 2</td>\n",
        "      <td>  3</td>\n",
        "      <td>  6</td>\n",
        "      <td> 0</td>\n",
        "      <td> 0</td>\n",
        "      <td>...</td>\n",
        "      <td>  2</td>\n",
        "      <td>  1</td>\n",
        "      <td>  2</td>\n",
        "      <td>  1</td>\n",
        "      <td>  3</td>\n",
        "      <td> 2</td>\n",
        "      <td> 2</td>\n",
        "      <td> 2</td>\n",
        "      <td> 2</td>\n",
        "      <td> 1</td>\n",
        "    </tr>\n",
        "    <tr>\n",
        "      <th>588294</th>\n",
        "      <td> 1999</td>\n",
        "      <td> 588294</td>\n",
        "      <td> 1</td>\n",
        "      <td>  4</td>\n",
        "      <td>  4</td>\n",
        "      <td> 1</td>\n",
        "      <td>NaN</td>\n",
        "      <td>NaN</td>\n",
        "      <td> 0</td>\n",
        "      <td> 0</td>\n",
        "      <td>...</td>\n",
        "      <td>NaN</td>\n",
        "      <td>NaN</td>\n",
        "      <td>NaN</td>\n",
        "      <td>NaN</td>\n",
        "      <td>NaN</td>\n",
        "      <td> 0</td>\n",
        "      <td> 0</td>\n",
        "      <td> 0</td>\n",
        "      <td> 0</td>\n",
        "      <td> 0</td>\n",
        "    </tr>\n",
        "    <tr>\n",
        "      <th>588296</th>\n",
        "      <td> 1999</td>\n",
        "      <td> 588296</td>\n",
        "      <td> 2</td>\n",
        "      <td>  3</td>\n",
        "      <td>  3</td>\n",
        "      <td> 2</td>\n",
        "      <td>  3</td>\n",
        "      <td>  2</td>\n",
        "      <td> 4</td>\n",
        "      <td> 3</td>\n",
        "      <td>...</td>\n",
        "      <td>  3</td>\n",
        "      <td>  3</td>\n",
        "      <td>  3</td>\n",
        "      <td>  1</td>\n",
        "      <td>  3</td>\n",
        "      <td> 3</td>\n",
        "      <td> 3</td>\n",
        "      <td> 1</td>\n",
        "      <td> 2</td>\n",
        "      <td> 2</td>\n",
        "    </tr>\n",
        "    <tr>\n",
        "      <th>588301</th>\n",
        "      <td> 1999</td>\n",
        "      <td> 588301</td>\n",
        "      <td> 2</td>\n",
        "      <td>NaN</td>\n",
        "      <td>NaN</td>\n",
        "      <td> 1</td>\n",
        "      <td>NaN</td>\n",
        "      <td>NaN</td>\n",
        "      <td> 0</td>\n",
        "      <td> 0</td>\n",
        "      <td>...</td>\n",
        "      <td>NaN</td>\n",
        "      <td>NaN</td>\n",
        "      <td>NaN</td>\n",
        "      <td>NaN</td>\n",
        "      <td>NaN</td>\n",
        "      <td> 0</td>\n",
        "      <td> 0</td>\n",
        "      <td> 0</td>\n",
        "      <td> 0</td>\n",
        "      <td> 0</td>\n",
        "    </tr>\n",
        "  </tbody>\n",
        "</table>\n",
        "<p>5 rows \u00d7 55 columns</p>\n",
        "</div>"
       ],
       "metadata": {},
       "output_type": "pyout",
       "prompt_number": 93,
       "text": [
        "        YEAR  SUBJID  SEX  AGE1  AGE2  RRACE  RACEGROUP  INCOME  FATHEDUC  \\\n",
        "SUBJID                                                                      \n",
        "588290  1999  588290    2     4     4      2          3       5         6   \n",
        "588293  1999  588293    1     4     4      2          3       6         0   \n",
        "588294  1999  588294    1     4     4      1        NaN     NaN         0   \n",
        "588296  1999  588296    2     3     3      2          3       2         4   \n",
        "588301  1999  588301    2   NaN   NaN      1        NaN     NaN         0   \n",
        "\n",
        "        MOTHEDUC   ...     ACT29  ACT30  ACT31  ACT32  ACT33  ACT17_T  \\\n",
        "SUBJID             ...                                                  \n",
        "588290         5   ...         3      1      1      1      3        3   \n",
        "588293         0   ...         2      1      2      1      3        2   \n",
        "588294         0   ...       NaN    NaN    NaN    NaN    NaN        0   \n",
        "588296         3   ...         3      3      3      1      3        3   \n",
        "588301         0   ...       NaN    NaN    NaN    NaN    NaN        0   \n",
        "\n",
        "        ACT21_T  ACT23_T  ACT24_T  ACT26_T  \n",
        "SUBJID                                      \n",
        "588290        3        1        3        1  \n",
        "588293        2        2        2        1  \n",
        "588294        0        0        0        0  \n",
        "588296        3        1        2        2  \n",
        "588301        0        0        0        0  \n",
        "\n",
        "[5 rows x 55 columns]"
       ]
      }
     ],
     "prompt_number": 93
    },
    {
     "cell_type": "code",
     "collapsed": false,
     "input": [
      "df.describe()"
     ],
     "language": "python",
     "metadata": {},
     "outputs": [
      {
       "html": [
        "<div style=\"max-height:1000px;max-width:1500px;overflow:auto;\">\n",
        "<table border=\"1\" class=\"dataframe\">\n",
        "  <thead>\n",
        "    <tr style=\"text-align: right;\">\n",
        "      <th></th>\n",
        "      <th>YEAR</th>\n",
        "      <th>SUBJID</th>\n",
        "      <th>SEX</th>\n",
        "      <th>AGE1</th>\n",
        "      <th>AGE2</th>\n",
        "      <th>RRACE</th>\n",
        "      <th>RACEGROUP</th>\n",
        "      <th>INCOME</th>\n",
        "      <th>FATHEDUC</th>\n",
        "      <th>MOTHEDUC</th>\n",
        "      <th>...</th>\n",
        "      <th>ACT29</th>\n",
        "      <th>ACT30</th>\n",
        "      <th>ACT31</th>\n",
        "      <th>ACT32</th>\n",
        "      <th>ACT33</th>\n",
        "      <th>ACT17_T</th>\n",
        "      <th>ACT21_T</th>\n",
        "      <th>ACT23_T</th>\n",
        "      <th>ACT24_T</th>\n",
        "      <th>ACT26_T</th>\n",
        "    </tr>\n",
        "  </thead>\n",
        "  <tbody>\n",
        "    <tr>\n",
        "      <th>count</th>\n",
        "      <td> 254963</td>\n",
        "      <td> 254963.000000</td>\n",
        "      <td> 254963.000000</td>\n",
        "      <td> 253031.000000</td>\n",
        "      <td> 253031.000000</td>\n",
        "      <td> 254963.000000</td>\n",
        "      <td> 250951.000000</td>\n",
        "      <td> 228109.000000</td>\n",
        "      <td> 254963.000000</td>\n",
        "      <td> 254963.000000</td>\n",
        "      <td>...</td>\n",
        "      <td> 252007.000000</td>\n",
        "      <td> 251421.000000</td>\n",
        "      <td> 250717.000000</td>\n",
        "      <td> 251380.000000</td>\n",
        "      <td> 251961.000000</td>\n",
        "      <td> 254963.000000</td>\n",
        "      <td> 254963.000000</td>\n",
        "      <td> 254963.000000</td>\n",
        "      <td> 254963.000000</td>\n",
        "      <td> 254963.000000</td>\n",
        "    </tr>\n",
        "    <tr>\n",
        "      <th>mean</th>\n",
        "      <td>   1999</td>\n",
        "      <td> 262637.832568</td>\n",
        "      <td>      1.561823</td>\n",
        "      <td>      3.284198</td>\n",
        "      <td>      3.278575</td>\n",
        "      <td>      1.984264</td>\n",
        "      <td>      4.763484</td>\n",
        "      <td>     15.278652</td>\n",
        "      <td>      5.423563</td>\n",
        "      <td>      5.235995</td>\n",
        "      <td>...</td>\n",
        "      <td>      2.542675</td>\n",
        "      <td>      1.706791</td>\n",
        "      <td>      2.043148</td>\n",
        "      <td>      1.361266</td>\n",
        "      <td>      2.373486</td>\n",
        "      <td>      2.193146</td>\n",
        "      <td>      1.725341</td>\n",
        "      <td>      1.408138</td>\n",
        "      <td>      1.959688</td>\n",
        "      <td>      1.767551</td>\n",
        "    </tr>\n",
        "    <tr>\n",
        "      <th>std</th>\n",
        "      <td>      0</td>\n",
        "      <td> 169974.832774</td>\n",
        "      <td>      0.496164</td>\n",
        "      <td>      0.569794</td>\n",
        "      <td>      0.532832</td>\n",
        "      <td>      0.124451</td>\n",
        "      <td>      1.019940</td>\n",
        "      <td>      5.722904</td>\n",
        "      <td>      2.170062</td>\n",
        "      <td>      1.989437</td>\n",
        "      <td>...</td>\n",
        "      <td>      0.601739</td>\n",
        "      <td>      0.612357</td>\n",
        "      <td>      0.671691</td>\n",
        "      <td>      0.573339</td>\n",
        "      <td>      0.552231</td>\n",
        "      <td>      0.770246</td>\n",
        "      <td>      0.782734</td>\n",
        "      <td>      0.619980</td>\n",
        "      <td>      0.729157</td>\n",
        "      <td>      0.712127</td>\n",
        "    </tr>\n",
        "    <tr>\n",
        "      <th>min</th>\n",
        "      <td>   1999</td>\n",
        "      <td>     18.000000</td>\n",
        "      <td>      1.000000</td>\n",
        "      <td>      1.000000</td>\n",
        "      <td>      1.000000</td>\n",
        "      <td>      1.000000</td>\n",
        "      <td>      1.000000</td>\n",
        "      <td>      1.000000</td>\n",
        "      <td>      0.000000</td>\n",
        "      <td>      0.000000</td>\n",
        "      <td>...</td>\n",
        "      <td>      1.000000</td>\n",
        "      <td>      1.000000</td>\n",
        "      <td>      1.000000</td>\n",
        "      <td>      1.000000</td>\n",
        "      <td>      1.000000</td>\n",
        "      <td>      0.000000</td>\n",
        "      <td>      0.000000</td>\n",
        "      <td>      0.000000</td>\n",
        "      <td>      0.000000</td>\n",
        "      <td>      0.000000</td>\n",
        "    </tr>\n",
        "    <tr>\n",
        "      <th>25%</th>\n",
        "      <td>   1999</td>\n",
        "      <td> 102510.500000</td>\n",
        "      <td>      1.000000</td>\n",
        "      <td>      3.000000</td>\n",
        "      <td>      3.000000</td>\n",
        "      <td>      2.000000</td>\n",
        "      <td>      5.000000</td>\n",
        "      <td>     13.000000</td>\n",
        "      <td>      3.000000</td>\n",
        "      <td>      3.000000</td>\n",
        "      <td>...</td>\n",
        "      <td>      2.000000</td>\n",
        "      <td>      1.000000</td>\n",
        "      <td>      2.000000</td>\n",
        "      <td>      1.000000</td>\n",
        "      <td>      2.000000</td>\n",
        "      <td>      2.000000</td>\n",
        "      <td>      1.000000</td>\n",
        "      <td>      1.000000</td>\n",
        "      <td>      1.000000</td>\n",
        "      <td>      1.000000</td>\n",
        "    </tr>\n",
        "    <tr>\n",
        "      <th>50%</th>\n",
        "      <td>   1999</td>\n",
        "      <td> 255331.000000</td>\n",
        "      <td>      2.000000</td>\n",
        "      <td>      3.000000</td>\n",
        "      <td>      3.000000</td>\n",
        "      <td>      2.000000</td>\n",
        "      <td>      5.000000</td>\n",
        "      <td>     17.000000</td>\n",
        "      <td>      6.000000</td>\n",
        "      <td>      6.000000</td>\n",
        "      <td>...</td>\n",
        "      <td>      3.000000</td>\n",
        "      <td>      2.000000</td>\n",
        "      <td>      2.000000</td>\n",
        "      <td>      1.000000</td>\n",
        "      <td>      2.000000</td>\n",
        "      <td>      2.000000</td>\n",
        "      <td>      2.000000</td>\n",
        "      <td>      1.000000</td>\n",
        "      <td>      2.000000</td>\n",
        "      <td>      2.000000</td>\n",
        "    </tr>\n",
        "    <tr>\n",
        "      <th>75%</th>\n",
        "      <td>   1999</td>\n",
        "      <td> 408788.500000</td>\n",
        "      <td>      2.000000</td>\n",
        "      <td>      4.000000</td>\n",
        "      <td>      4.000000</td>\n",
        "      <td>      2.000000</td>\n",
        "      <td>      5.000000</td>\n",
        "      <td>     20.000000</td>\n",
        "      <td>      8.000000</td>\n",
        "      <td>      6.000000</td>\n",
        "      <td>...</td>\n",
        "      <td>      3.000000</td>\n",
        "      <td>      2.000000</td>\n",
        "      <td>      2.000000</td>\n",
        "      <td>      2.000000</td>\n",
        "      <td>      3.000000</td>\n",
        "      <td>      3.000000</td>\n",
        "      <td>      2.000000</td>\n",
        "      <td>      2.000000</td>\n",
        "      <td>      2.000000</td>\n",
        "      <td>      2.000000</td>\n",
        "    </tr>\n",
        "    <tr>\n",
        "      <th>max</th>\n",
        "      <td>   1999</td>\n",
        "      <td> 588301.000000</td>\n",
        "      <td>      2.000000</td>\n",
        "      <td>     11.000000</td>\n",
        "      <td>      6.000000</td>\n",
        "      <td>      2.000000</td>\n",
        "      <td>      7.000000</td>\n",
        "      <td>     23.000000</td>\n",
        "      <td>      8.000000</td>\n",
        "      <td>      8.000000</td>\n",
        "      <td>...</td>\n",
        "      <td>      3.000000</td>\n",
        "      <td>      3.000000</td>\n",
        "      <td>      3.000000</td>\n",
        "      <td>      3.000000</td>\n",
        "      <td>      3.000000</td>\n",
        "      <td>      3.000000</td>\n",
        "      <td>      3.000000</td>\n",
        "      <td>      3.000000</td>\n",
        "      <td>      3.000000</td>\n",
        "      <td>      3.000000</td>\n",
        "    </tr>\n",
        "  </tbody>\n",
        "</table>\n",
        "<p>8 rows \u00d7 55 columns</p>\n",
        "</div>"
       ],
       "metadata": {},
       "output_type": "pyout",
       "prompt_number": 94,
       "text": [
        "         YEAR         SUBJID            SEX           AGE1           AGE2  \\\n",
        "count  254963  254963.000000  254963.000000  253031.000000  253031.000000   \n",
        "mean     1999  262637.832568       1.561823       3.284198       3.278575   \n",
        "std         0  169974.832774       0.496164       0.569794       0.532832   \n",
        "min      1999      18.000000       1.000000       1.000000       1.000000   \n",
        "25%      1999  102510.500000       1.000000       3.000000       3.000000   \n",
        "50%      1999  255331.000000       2.000000       3.000000       3.000000   \n",
        "75%      1999  408788.500000       2.000000       4.000000       4.000000   \n",
        "max      1999  588301.000000       2.000000      11.000000       6.000000   \n",
        "\n",
        "               RRACE      RACEGROUP         INCOME       FATHEDUC  \\\n",
        "count  254963.000000  250951.000000  228109.000000  254963.000000   \n",
        "mean        1.984264       4.763484      15.278652       5.423563   \n",
        "std         0.124451       1.019940       5.722904       2.170062   \n",
        "min         1.000000       1.000000       1.000000       0.000000   \n",
        "25%         2.000000       5.000000      13.000000       3.000000   \n",
        "50%         2.000000       5.000000      17.000000       6.000000   \n",
        "75%         2.000000       5.000000      20.000000       8.000000   \n",
        "max         2.000000       7.000000      23.000000       8.000000   \n",
        "\n",
        "            MOTHEDUC      ...                ACT29          ACT30  \\\n",
        "count  254963.000000      ...        252007.000000  251421.000000   \n",
        "mean        5.235995      ...             2.542675       1.706791   \n",
        "std         1.989437      ...             0.601739       0.612357   \n",
        "min         0.000000      ...             1.000000       1.000000   \n",
        "25%         3.000000      ...             2.000000       1.000000   \n",
        "50%         6.000000      ...             3.000000       2.000000   \n",
        "75%         6.000000      ...             3.000000       2.000000   \n",
        "max         8.000000      ...             3.000000       3.000000   \n",
        "\n",
        "               ACT31          ACT32          ACT33        ACT17_T  \\\n",
        "count  250717.000000  251380.000000  251961.000000  254963.000000   \n",
        "mean        2.043148       1.361266       2.373486       2.193146   \n",
        "std         0.671691       0.573339       0.552231       0.770246   \n",
        "min         1.000000       1.000000       1.000000       0.000000   \n",
        "25%         2.000000       1.000000       2.000000       2.000000   \n",
        "50%         2.000000       1.000000       2.000000       2.000000   \n",
        "75%         2.000000       2.000000       3.000000       3.000000   \n",
        "max         3.000000       3.000000       3.000000       3.000000   \n",
        "\n",
        "             ACT21_T        ACT23_T        ACT24_T        ACT26_T  \n",
        "count  254963.000000  254963.000000  254963.000000  254963.000000  \n",
        "mean        1.725341       1.408138       1.959688       1.767551  \n",
        "std         0.782734       0.619980       0.729157       0.712127  \n",
        "min         0.000000       0.000000       0.000000       0.000000  \n",
        "25%         1.000000       1.000000       1.000000       1.000000  \n",
        "50%         2.000000       1.000000       2.000000       2.000000  \n",
        "75%         2.000000       2.000000       2.000000       2.000000  \n",
        "max         3.000000       3.000000       3.000000       3.000000  \n",
        "\n",
        "[8 rows x 55 columns]"
       ]
      }
     ],
     "prompt_number": 94
    },
    {
     "cell_type": "code",
     "collapsed": false,
     "input": [
      "df.AGE1.value_counts().sort_index()"
     ],
     "language": "python",
     "metadata": {},
     "outputs": [
      {
       "metadata": {},
       "output_type": "pyout",
       "prompt_number": 95,
       "text": [
        "1        138\n",
        "2       4697\n",
        "3     177078\n",
        "4      67814\n",
        "5       2265\n",
        "7        804\n",
        "8        126\n",
        "9         72\n",
        "10        34\n",
        "11         3\n",
        "dtype: int64"
       ]
      }
     ],
     "prompt_number": 95
    },
    {
     "cell_type": "code",
     "collapsed": false,
     "input": [
      "df.AGE2.value_counts().sort_index()"
     ],
     "language": "python",
     "metadata": {},
     "outputs": [
      {
       "metadata": {},
       "output_type": "pyout",
       "prompt_number": 16,
       "text": [
        "1       138\n",
        "2      4697\n",
        "3    177078\n",
        "4     67814\n",
        "5      2265\n",
        "6      1039\n",
        "dtype: int64"
       ]
      }
     ],
     "prompt_number": 16
    },
    {
     "cell_type": "code",
     "collapsed": false,
     "input": [
      "df.ACT17_T = df.ACT17_T.replace(0, np.nan)"
     ],
     "language": "python",
     "metadata": {},
     "outputs": [],
     "prompt_number": 17
    },
    {
     "cell_type": "code",
     "collapsed": false,
     "input": [
      "df.ACT17_T.value_counts()"
     ],
     "language": "python",
     "metadata": {},
     "outputs": [
      {
       "metadata": {},
       "output_type": "pyout",
       "prompt_number": 18,
       "text": [
        "2    107451\n",
        "3    100589\n",
        "1     42502\n",
        "dtype: int64"
       ]
      }
     ],
     "prompt_number": 18
    },
    {
     "cell_type": "code",
     "collapsed": false,
     "input": [
      "# select people 24 and younger\n",
      "df = df.loc[df.AGE1 <= 6]\n",
      "len(df)"
     ],
     "language": "python",
     "metadata": {},
     "outputs": [
      {
       "metadata": {},
       "output_type": "pyout",
       "prompt_number": 69,
       "text": [
        "251992"
       ]
      }
     ],
     "prompt_number": 69
    },
    {
     "cell_type": "code",
     "collapsed": false,
     "input": [
      "df.HSGPA.value_counts().sort_index()"
     ],
     "language": "python",
     "metadata": {},
     "outputs": [
      {
       "metadata": {},
       "output_type": "pyout",
       "prompt_number": 70,
       "text": [
        "1      112\n",
        "2     3170\n",
        "3     7773\n",
        "4    16078\n",
        "5    46173\n",
        "6    51719\n",
        "7    61159\n",
        "8    64066\n",
        "dtype: int64"
       ]
      }
     ],
     "prompt_number": 70
    },
    {
     "cell_type": "code",
     "collapsed": false,
     "input": [
      "df.SATV.value_counts().sort_index()"
     ],
     "language": "python",
     "metadata": {},
     "outputs": [
      {
       "metadata": {},
       "output_type": "pyout",
       "prompt_number": 71,
       "text": [
        "200     11\n",
        "210      9\n",
        "212      1\n",
        "220      6\n",
        "230     11\n",
        "240     18\n",
        "250     17\n",
        "260     10\n",
        "270     25\n",
        "275      1\n",
        "280     34\n",
        "289      1\n",
        "290     31\n",
        "300    112\n",
        "305      1\n",
        "...\n",
        "756       1\n",
        "760    1340\n",
        "764       1\n",
        "768       3\n",
        "770    1353\n",
        "777       1\n",
        "778       1\n",
        "780     973\n",
        "782       1\n",
        "785       2\n",
        "790     628\n",
        "796       1\n",
        "798       1\n",
        "799       1\n",
        "800    2544\n",
        "Length: 297, dtype: int64"
       ]
      }
     ],
     "prompt_number": 71
    },
    {
     "cell_type": "code",
     "collapsed": false,
     "input": [
      "df.SATM.value_counts().sort_index()"
     ],
     "language": "python",
     "metadata": {},
     "outputs": [
      {
       "metadata": {},
       "output_type": "pyout",
       "prompt_number": 72,
       "text": [
        "200    13\n",
        "210    11\n",
        "220     6\n",
        "223     1\n",
        "225     2\n",
        "226     1\n",
        "230     9\n",
        "236     1\n",
        "238     1\n",
        "240    16\n",
        "245     1\n",
        "250    15\n",
        "260     8\n",
        "263     1\n",
        "264     1\n",
        "...\n",
        "738       1\n",
        "740    1494\n",
        "742       1\n",
        "745       1\n",
        "746       1\n",
        "750    1971\n",
        "751       2\n",
        "760    1790\n",
        "766       1\n",
        "770     682\n",
        "780    1450\n",
        "782       1\n",
        "790    1027\n",
        "791       1\n",
        "800    2583\n",
        "Length: 298, dtype: int64"
       ]
      }
     ],
     "prompt_number": 72
    },
    {
     "cell_type": "code",
     "collapsed": false,
     "input": [
      "df.ACTCOMP.value_counts().sort_index()"
     ],
     "language": "python",
     "metadata": {},
     "outputs": [
      {
       "metadata": {},
       "output_type": "pyout",
       "prompt_number": 73,
       "text": [
        "1        3\n",
        "2       26\n",
        "3        7\n",
        "6        1\n",
        "7        2\n",
        "8        1\n",
        "9        1\n",
        "10       4\n",
        "11      25\n",
        "12      60\n",
        "13      93\n",
        "14     233\n",
        "15     434\n",
        "16     832\n",
        "17    2075\n",
        "18    3579\n",
        "19    5255\n",
        "20    5139\n",
        "21    8516\n",
        "22    7271\n",
        "23    8464\n",
        "24    9345\n",
        "25    7864\n",
        "26    8688\n",
        "27    8815\n",
        "28    8035\n",
        "29    7021\n",
        "30    5249\n",
        "31    4358\n",
        "32    3098\n",
        "33    1565\n",
        "34     862\n",
        "35     328\n",
        "36      77\n",
        "dtype: int64"
       ]
      }
     ],
     "prompt_number": 73
    },
    {
     "cell_type": "code",
     "collapsed": false,
     "input": [
      "# TODO: check that 0 really means NA for these vars\n",
      "df.ACT17_T = df.ACT17_T.replace(0, np.nan)\n",
      "df.ACT21_T = df.ACT21_T.replace(0, np.nan)\n",
      "df.ACT24_T = df.ACT24_T.replace(0, np.nan)"
     ],
     "language": "python",
     "metadata": {},
     "outputs": [],
     "prompt_number": 74
    },
    {
     "cell_type": "code",
     "collapsed": false,
     "input": [
      "df.isnull().mean()"
     ],
     "language": "python",
     "metadata": {},
     "outputs": [
      {
       "metadata": {},
       "output_type": "pyout",
       "prompt_number": 75,
       "text": [
        "YEAR          0.000000\n",
        "SUBJID        0.000000\n",
        "SEX           0.000000\n",
        "AGE1          0.000000\n",
        "AGE2          0.000000\n",
        "RRACE         0.000000\n",
        "RACEGROUP     0.014862\n",
        "INCOME        0.104031\n",
        "FATHEDUC      0.000000\n",
        "MOTHEDUC      0.000000\n",
        "FIRSTGEN      0.013782\n",
        "FRELIGIONA    0.115309\n",
        "MRELIGIONA    0.093729\n",
        "SRELIGIONA    0.034009\n",
        "YEAR          0.000000\n",
        "SUBJID        0.000000\n",
        "HSGPA         0.006913\n",
        "SATV          0.414751\n",
        "SATM          0.414569\n",
        "SATW          1.000000\n",
        "ACTCOMP       0.574090\n",
        "ACT08         0.013231\n",
        "ACT09         0.016092\n",
        "ACT21         0.012822\n",
        "ACT25         0.010996\n",
        "ACT28         0.012528\n",
        "ACT29         0.010639\n",
        "ACT17_T       0.016350\n",
        "ACT21_T       0.011992\n",
        "ACT24_T       0.011782\n",
        "HASRELIG      0.000000\n",
        "PAREDUC       0.000000\n",
        "MNONE         0.000000\n",
        "FNONE         0.000000\n",
        "MIXED         0.000000\n",
        "ASIAN         0.000000\n",
        "BLACK         0.000000\n",
        "HISP          0.000000\n",
        "INC           0.104031\n",
        "INC2          0.104031\n",
        "dtype: float64"
       ]
      }
     ],
     "prompt_number": 75
    },
    {
     "cell_type": "code",
     "collapsed": false,
     "input": [
      "df.ACT08.value_counts().sort_index()"
     ],
     "language": "python",
     "metadata": {},
     "outputs": [
      {
       "metadata": {},
       "output_type": "pyout",
       "prompt_number": 26,
       "text": [
        "1     64709\n",
        "2    137078\n",
        "3     46871\n",
        "dtype: int64"
       ]
      }
     ],
     "prompt_number": 26
    },
    {
     "cell_type": "code",
     "collapsed": false,
     "input": [
      "df.ACT09.value_counts().sort_index()"
     ],
     "language": "python",
     "metadata": {},
     "outputs": [
      {
       "metadata": {},
       "output_type": "pyout",
       "prompt_number": 27,
       "text": [
        "1     38878\n",
        "2    131278\n",
        "3     77781\n",
        "dtype: int64"
       ]
      }
     ],
     "prompt_number": 27
    },
    {
     "cell_type": "code",
     "collapsed": false,
     "input": [
      "df.ACT21.value_counts().sort_index()"
     ],
     "language": "python",
     "metadata": {},
     "outputs": [
      {
       "metadata": {},
       "output_type": "pyout",
       "prompt_number": 28,
       "text": [
        "1    143096\n",
        "2     47024\n",
        "3     58641\n",
        "dtype: int64"
       ]
      }
     ],
     "prompt_number": 28
    },
    {
     "cell_type": "code",
     "collapsed": false,
     "input": [
      "df.ACT25.value_counts().sort_index()"
     ],
     "language": "python",
     "metadata": {},
     "outputs": [
      {
       "metadata": {},
       "output_type": "pyout",
       "prompt_number": 29,
       "text": [
        "1      6859\n",
        "2     73679\n",
        "3    168683\n",
        "dtype: int64"
       ]
      }
     ],
     "prompt_number": 29
    },
    {
     "cell_type": "code",
     "collapsed": false,
     "input": [
      "df.ACT28.value_counts().sort_index()"
     ],
     "language": "python",
     "metadata": {},
     "outputs": [
      {
       "metadata": {},
       "output_type": "pyout",
       "prompt_number": 30,
       "text": [
        "1     17039\n",
        "2     52052\n",
        "3    179744\n",
        "dtype: int64"
       ]
      }
     ],
     "prompt_number": 30
    },
    {
     "cell_type": "code",
     "collapsed": false,
     "input": [
      "df.ACT29.value_counts().sort_index()"
     ],
     "language": "python",
     "metadata": {},
     "outputs": [
      {
       "metadata": {},
       "output_type": "pyout",
       "prompt_number": 31,
       "text": [
        "1     13917\n",
        "2     85641\n",
        "3    149753\n",
        "dtype: int64"
       ]
      }
     ],
     "prompt_number": 31
    },
    {
     "cell_type": "code",
     "collapsed": false,
     "input": [
      "df.ACT17_T.value_counts().sort_index()"
     ],
     "language": "python",
     "metadata": {},
     "outputs": [
      {
       "metadata": {},
       "output_type": "pyout",
       "prompt_number": 32,
       "text": [
        "1     41905\n",
        "2    106353\n",
        "3     99614\n",
        "dtype: int64"
       ]
      }
     ],
     "prompt_number": 32
    },
    {
     "cell_type": "code",
     "collapsed": false,
     "input": [
      "df.ACT21_T.value_counts().sort_index()"
     ],
     "language": "python",
     "metadata": {},
     "outputs": [
      {
       "metadata": {},
       "output_type": "pyout",
       "prompt_number": 33,
       "text": [
        "1    111557\n",
        "2     88551\n",
        "3     48862\n",
        "dtype: int64"
       ]
      }
     ],
     "prompt_number": 33
    },
    {
     "cell_type": "code",
     "collapsed": false,
     "input": [
      "df.ACT24_T.value_counts().sort_index()"
     ],
     "language": "python",
     "metadata": {},
     "outputs": [
      {
       "metadata": {},
       "output_type": "pyout",
       "prompt_number": 34,
       "text": [
        "1     62620\n",
        "2    127436\n",
        "3     58967\n",
        "dtype: int64"
       ]
      }
     ],
     "prompt_number": 34
    },
    {
     "cell_type": "code",
     "collapsed": false,
     "input": [
      "df.INCOME.value_counts().sort_index()"
     ],
     "language": "python",
     "metadata": {},
     "outputs": [
      {
       "metadata": {},
       "output_type": "pyout",
       "prompt_number": 35,
       "text": [
        "1      3389\n",
        "2      3055\n",
        "4      5454\n",
        "5      5617\n",
        "6      8103\n",
        "7      8673\n",
        "9     17880\n",
        "13    21210\n",
        "15    23689\n",
        "17    31157\n",
        "18    34013\n",
        "20    32405\n",
        "22    12976\n",
        "23    18156\n",
        "dtype: int64"
       ]
      }
     ],
     "prompt_number": 35
    },
    {
     "cell_type": "code",
     "collapsed": false,
     "input": [
      "df.FATHEDUC.value_counts().sort_index()"
     ],
     "language": "python",
     "metadata": {},
     "outputs": [
      {
       "metadata": {},
       "output_type": "pyout",
       "prompt_number": 36,
       "text": [
        "0     6485\n",
        "1     5817\n",
        "2     8288\n",
        "3    43890\n",
        "4     9250\n",
        "5    34708\n",
        "6    68388\n",
        "7     6741\n",
        "8    68425\n",
        "dtype: int64"
       ]
      }
     ],
     "prompt_number": 36
    },
    {
     "cell_type": "code",
     "collapsed": false,
     "input": [
      "df.MOTHEDUC.value_counts().sort_index()"
     ],
     "language": "python",
     "metadata": {},
     "outputs": [
      {
       "metadata": {},
       "output_type": "pyout",
       "prompt_number": 37,
       "text": [
        "0     4240\n",
        "1     5336\n",
        "2     6261\n",
        "3    50823\n",
        "4    12192\n",
        "5    40307\n",
        "6    76152\n",
        "7     9005\n",
        "8    47676\n",
        "dtype: int64"
       ]
      }
     ],
     "prompt_number": 37
    },
    {
     "cell_type": "code",
     "collapsed": false,
     "input": [
      "df.FIRSTGEN.value_counts().sort_index()"
     ],
     "language": "python",
     "metadata": {},
     "outputs": [
      {
       "metadata": {},
       "output_type": "pyout",
       "prompt_number": 38,
       "text": [
        "1    203994\n",
        "2     44525\n",
        "dtype: int64"
       ]
      }
     ],
     "prompt_number": 38
    },
    {
     "cell_type": "code",
     "collapsed": false,
     "input": [
      "# I'm assuming that the code is PCJON\n",
      "df.SRELIGIONA.value_counts().sort_index()"
     ],
     "language": "python",
     "metadata": {},
     "outputs": [
      {
       "metadata": {},
       "output_type": "pyout",
       "prompt_number": 39,
       "text": [
        "1    107459\n",
        "2     76732\n",
        "3      8173\n",
        "4     13114\n",
        "5     37944\n",
        "dtype: int64"
       ]
      }
     ],
     "prompt_number": 39
    },
    {
     "cell_type": "code",
     "collapsed": false,
     "input": [
      "df.FRELIGIONA.value_counts().sort_index()"
     ],
     "language": "python",
     "metadata": {},
     "outputs": [
      {
       "metadata": {},
       "output_type": "pyout",
       "prompt_number": 40,
       "text": [
        "1    100512\n",
        "2     73465\n",
        "3      9319\n",
        "4     12251\n",
        "5     27388\n",
        "dtype: int64"
       ]
      }
     ],
     "prompt_number": 40
    },
    {
     "cell_type": "code",
     "collapsed": false,
     "input": [
      "df.MRELIGIONA.value_counts().sort_index()"
     ],
     "language": "python",
     "metadata": {},
     "outputs": [
      {
       "metadata": {},
       "output_type": "pyout",
       "prompt_number": 41,
       "text": [
        "1    109813\n",
        "2     79434\n",
        "3      8865\n",
        "4     12479\n",
        "5     17782\n",
        "dtype: int64"
       ]
      }
     ],
     "prompt_number": 41
    },
    {
     "cell_type": "code",
     "collapsed": false,
     "input": [
      "df['HASRELIG'] = (df.SRELIGIONA != 5).astype(int)\n",
      "df.HASRELIG.mean()"
     ],
     "language": "python",
     "metadata": {},
     "outputs": [
      {
       "metadata": {},
       "output_type": "pyout",
       "prompt_number": 77,
       "text": [
        "0.84942379123146772"
       ]
      }
     ],
     "prompt_number": 77
    },
    {
     "cell_type": "code",
     "collapsed": false,
     "input": [],
     "language": "python",
     "metadata": {},
     "outputs": []
    },
    {
     "cell_type": "code",
     "collapsed": false,
     "input": [
      "df.groupby('INCOME').mean().HASRELIG.plot()"
     ],
     "language": "python",
     "metadata": {},
     "outputs": [
      {
       "metadata": {},
       "output_type": "pyout",
       "prompt_number": 43,
       "text": [
        "<matplotlib.axes.AxesSubplot at 0x7fabf055db50>"
       ]
      },
      {
       "metadata": {},
       "output_type": "display_data",
       "png": "[encoded data removed]",
       "text": [
        "<matplotlib.figure.Figure at 0x7fabf055dd10>"
       ]
      }
     ],
     "prompt_number": 43
    },
    {
     "cell_type": "code",
     "collapsed": false,
     "input": [
      "df.groupby('FATHEDUC').mean().HASRELIG.plot()"
     ],
     "language": "python",
     "metadata": {},
     "outputs": [
      {
       "metadata": {},
       "output_type": "pyout",
       "prompt_number": 44,
       "text": [
        "<matplotlib.axes.AxesSubplot at 0x7fabf052a390>"
       ]
      },
      {
       "metadata": {},
       "output_type": "display_data",
       "png": "[encoded data removed]",
       "text": [
        "<matplotlib.figure.Figure at 0x7fabf0570e50>"
       ]
      }
     ],
     "prompt_number": 44
    },
    {
     "cell_type": "code",
     "collapsed": false,
     "input": [
      "df.groupby('MOTHEDUC').mean().HASRELIG.plot()"
     ],
     "language": "python",
     "metadata": {},
     "outputs": [
      {
       "metadata": {},
       "output_type": "pyout",
       "prompt_number": 45,
       "text": [
        "<matplotlib.axes.AxesSubplot at 0x7fabf033a350>"
       ]
      },
      {
       "metadata": {},
       "output_type": "display_data",
       "png": "[encoded data removed]",
       "text": [
        "<matplotlib.figure.Figure at 0x7fabf02ccd10>"
       ]
      }
     ],
     "prompt_number": 45
    },
    {
     "cell_type": "code",
     "collapsed": false,
     "input": [
      "df['PAREDUC'] = df.MOTHEDUC + df.FATHEDUC"
     ],
     "language": "python",
     "metadata": {},
     "outputs": [],
     "prompt_number": 46
    },
    {
     "cell_type": "code",
     "collapsed": false,
     "input": [
      "df.groupby('PAREDUC').mean().HASRELIG.plot()"
     ],
     "language": "python",
     "metadata": {},
     "outputs": [
      {
       "metadata": {},
       "output_type": "pyout",
       "prompt_number": 47,
       "text": [
        "<matplotlib.axes.AxesSubplot at 0x7fabf021c910>"
       ]
      },
      {
       "metadata": {},
       "output_type": "display_data",
       "png": "[encoded data removed]",
       "text": [
        "<matplotlib.figure.Figure at 0x7fabf0230250>"
       ]
      }
     ],
     "prompt_number": 47
    },
    {
     "cell_type": "code",
     "collapsed": false,
     "input": [
      "df.groupby('RACEGROUP').mean().HASRELIG.plot()"
     ],
     "language": "python",
     "metadata": {},
     "outputs": [
      {
       "metadata": {},
       "output_type": "pyout",
       "prompt_number": 48,
       "text": [
        "<matplotlib.axes.AxesSubplot at 0x7fabf0176490>"
       ]
      },
      {
       "metadata": {},
       "output_type": "display_data",
       "png": "[encoded data removed]",
       "text": [
        "<matplotlib.figure.Figure at 0x7fabf0180250>"
       ]
      }
     ],
     "prompt_number": 48
    },
    {
     "cell_type": "code",
     "collapsed": false,
     "input": [
      "df.groupby('FIRSTGEN').mean().HASRELIG.plot()"
     ],
     "language": "python",
     "metadata": {},
     "outputs": [
      {
       "metadata": {},
       "output_type": "pyout",
       "prompt_number": 49,
       "text": [
        "<matplotlib.axes.AxesSubplot at 0x7fabf00da9d0>"
       ]
      },
      {
       "metadata": {},
       "output_type": "display_data",
       "png": "[encoded data removed]",
       "text": [
        "<matplotlib.figure.Figure at 0x7fabf00effd0>"
       ]
      }
     ],
     "prompt_number": 49
    },
    {
     "cell_type": "code",
     "collapsed": false,
     "input": [
      "df.groupby('HSGPA').mean().HASRELIG.plot()"
     ],
     "language": "python",
     "metadata": {},
     "outputs": [
      {
       "metadata": {},
       "output_type": "pyout",
       "prompt_number": 50,
       "text": [
        "<matplotlib.axes.AxesSubplot at 0x7fabf002cb50>"
       ]
      },
      {
       "metadata": {},
       "output_type": "display_data",
       "png": "[encoded data removed]",
       "text": [
        "<matplotlib.figure.Figure at 0x7fabeff8ba10>"
       ]
      }
     ],
     "prompt_number": 50
    },
    {
     "cell_type": "code",
     "collapsed": false,
     "input": [
      "df.groupby('MRELIGIONA').mean().HASRELIG.plot()"
     ],
     "language": "python",
     "metadata": {},
     "outputs": [
      {
       "metadata": {},
       "output_type": "pyout",
       "prompt_number": 51,
       "text": [
        "<matplotlib.axes.AxesSubplot at 0x7fabeff72290>"
       ]
      },
      {
       "metadata": {},
       "output_type": "display_data",
       "png": "[encoded data removed]",
       "text": [
        "<matplotlib.figure.Figure at 0x7fabf00236d0>"
       ]
      }
     ],
     "prompt_number": 51
    },
    {
     "cell_type": "code",
     "collapsed": false,
     "input": [
      "df.groupby('FRELIGIONA').mean().HASRELIG.plot()"
     ],
     "language": "python",
     "metadata": {},
     "outputs": [
      {
       "metadata": {},
       "output_type": "pyout",
       "prompt_number": 52,
       "text": [
        "<matplotlib.axes.AxesSubplot at 0x7fabefe35050>"
       ]
      },
      {
       "metadata": {},
       "output_type": "display_data",
       "png": "[encoded data removed]",
       "text": [
        "<matplotlib.figure.Figure at 0x7fabf0473210>"
       ]
      }
     ],
     "prompt_number": 52
    },
    {
     "cell_type": "code",
     "collapsed": false,
     "input": [
      "df['MNONE'] = (df.MRELIGIONA == 5).astype(int)\n",
      "df['FNONE'] = (df.FRELIGIONA == 5).astype(int)\n",
      "df['MIXED'] = (df.FRELIGIONA != df.MRELIGIONA).astype(int)"
     ],
     "language": "python",
     "metadata": {},
     "outputs": [],
     "prompt_number": 78
    },
    {
     "cell_type": "code",
     "collapsed": false,
     "input": [
      "# parents have different religions\n",
      "df.groupby('FNONE').mean().HASRELIG.plot()"
     ],
     "language": "python",
     "metadata": {},
     "outputs": [
      {
       "metadata": {},
       "output_type": "pyout",
       "prompt_number": 54,
       "text": [
        "<matplotlib.axes.AxesSubplot at 0x7fabefd74310>"
       ]
      },
      {
       "metadata": {},
       "output_type": "display_data",
       "png": "[encoded data removed]",
       "text": [
        "<matplotlib.figure.Figure at 0x7fabeff320d0>"
       ]
      }
     ],
     "prompt_number": 54
    },
    {
     "cell_type": "code",
     "collapsed": false,
     "input": [
      "# parents have different religions\n",
      "df.groupby('MNONE').mean().HASRELIG.plot()"
     ],
     "language": "python",
     "metadata": {},
     "outputs": [
      {
       "metadata": {},
       "output_type": "pyout",
       "prompt_number": 55,
       "text": [
        "<matplotlib.axes.AxesSubplot at 0x7fabefc47150>"
       ]
      },
      {
       "metadata": {},
       "output_type": "display_data",
       "png": "[encoded data removed]",
       "text": [
        "<matplotlib.figure.Figure at 0x7fabefc73f90>"
       ]
      }
     ],
     "prompt_number": 55
    },
    {
     "cell_type": "code",
     "collapsed": false,
     "input": [
      "# parents have different religions\n",
      "df.groupby('MIXED').mean().HASRELIG.plot()"
     ],
     "language": "python",
     "metadata": {},
     "outputs": [
      {
       "metadata": {},
       "output_type": "pyout",
       "prompt_number": 56,
       "text": [
        "<matplotlib.axes.AxesSubplot at 0x7fabefc02950>"
       ]
      },
      {
       "metadata": {},
       "output_type": "display_data",
       "png": "[encoded data removed]",
       "text": [
        "<matplotlib.figure.Figure at 0x7fabeffb8c90>"
       ]
      }
     ],
     "prompt_number": 56
    },
    {
     "cell_type": "code",
     "collapsed": false,
     "input": [
      "# discussed politics \n",
      "df.groupby('ACT08').mean().HASRELIG.plot()"
     ],
     "language": "python",
     "metadata": {},
     "outputs": [
      {
       "metadata": {},
       "output_type": "pyout",
       "prompt_number": 57,
       "text": [
        "<matplotlib.axes.AxesSubplot at 0x7fabefad6ad0>"
       ]
      },
      {
       "metadata": {},
       "output_type": "display_data",
       "png": "[encoded data removed]",
       "text": [
        "<matplotlib.figure.Figure at 0x7fabefb01450>"
       ]
      }
     ],
     "prompt_number": 57
    },
    {
     "cell_type": "code",
     "collapsed": false,
     "input": [
      "# discussed religion\n",
      "#df.groupby('ACT09').mean().HASRELIG.plot()"
     ],
     "language": "python",
     "metadata": {},
     "outputs": [],
     "prompt_number": 58
    },
    {
     "cell_type": "code",
     "collapsed": false,
     "input": [
      "# played a musical instrument\n",
      "df.groupby('ACT21').mean().HASRELIG.plot()"
     ],
     "language": "python",
     "metadata": {},
     "outputs": [
      {
       "metadata": {},
       "output_type": "pyout",
       "prompt_number": 59,
       "text": [
        "<matplotlib.axes.AxesSubplot at 0x7fabefa19350>"
       ]
      },
      {
       "metadata": {},
       "output_type": "display_data",
       "png": "[encoded data removed]",
       "text": [
        "<matplotlib.figure.Figure at 0x7fabefb6a190>"
       ]
      }
     ],
     "prompt_number": 59
    },
    {
     "cell_type": "code",
     "collapsed": false,
     "input": [
      "# used a personal computer\n",
      "df.groupby('ACT28').mean().HASRELIG.plot()"
     ],
     "language": "python",
     "metadata": {},
     "outputs": [
      {
       "metadata": {},
       "output_type": "pyout",
       "prompt_number": 60,
       "text": [
        "<matplotlib.axes.AxesSubplot at 0x7fabef951850>"
       ]
      },
      {
       "metadata": {},
       "output_type": "display_data",
       "png": "[encoded data removed]",
       "text": [
        "<matplotlib.figure.Figure at 0x7fabef947e10>"
       ]
      }
     ],
     "prompt_number": 60
    },
    {
     "cell_type": "code",
     "collapsed": false,
     "input": [
      "# used the Internet for research or homework\n",
      "df.groupby('ACT29').mean().HASRELIG.plot()"
     ],
     "language": "python",
     "metadata": {},
     "outputs": [
      {
       "metadata": {},
       "output_type": "pyout",
       "prompt_number": 79,
       "text": [
        "<matplotlib.axes.AxesSubplot at 0x7fabe2067e50>"
       ]
      },
      {
       "metadata": {},
       "output_type": "display_data",
       "png": "[encoded data removed]",
       "text": [
        "<matplotlib.figure.Figure at 0x7fabe207c390>"
       ]
      }
     ],
     "prompt_number": 79
    },
    {
     "cell_type": "code",
     "collapsed": false,
     "input": [
      "# other Internet use\n",
      "df.groupby('ACT17_T').mean().HASRELIG.plot()"
     ],
     "language": "python",
     "metadata": {},
     "outputs": [
      {
       "metadata": {},
       "output_type": "pyout",
       "prompt_number": 61,
       "text": [
        "<matplotlib.axes.AxesSubplot at 0x7fabef8884d0>"
       ]
      },
      {
       "metadata": {},
       "output_type": "display_data",
       "png": "[encoded data removed]",
       "text": [
        "<matplotlib.figure.Figure at 0x7fabef943b90>"
       ]
      }
     ],
     "prompt_number": 61
    },
    {
     "cell_type": "code",
     "collapsed": false,
     "input": [
      "# Participated in Internet chat rooms\n",
      "df.groupby('ACT21_T').mean().HASRELIG.plot()"
     ],
     "language": "python",
     "metadata": {},
     "outputs": [
      {
       "metadata": {},
       "output_type": "pyout",
       "prompt_number": 62,
       "text": [
        "<matplotlib.axes.AxesSubplot at 0x7fabef845490>"
       ]
      },
      {
       "metadata": {},
       "output_type": "display_data",
       "png": "[encoded data removed]",
       "text": [
        "<matplotlib.figure.Figure at 0x7fabef96cf50>"
       ]
      }
     ],
     "prompt_number": 62
    },
    {
     "cell_type": "code",
     "collapsed": false,
     "input": [
      "# played computer games\n",
      "df.groupby('ACT24_T').mean().HASRELIG.plot()"
     ],
     "language": "python",
     "metadata": {},
     "outputs": [
      {
       "metadata": {},
       "output_type": "pyout",
       "prompt_number": 63,
       "text": [
        "<matplotlib.axes.AxesSubplot at 0x7fabef79aa10>"
       ]
      },
      {
       "metadata": {},
       "output_type": "display_data",
       "png": "[encoded data removed]",
       "text": [
        "<matplotlib.figure.Figure at 0x7fabef8fb0d0>"
       ]
      }
     ],
     "prompt_number": 63
    },
    {
     "cell_type": "code",
     "collapsed": false,
     "input": [
      "df['ASIAN'] = (df.RACEGROUP == 2).astype(int)\n",
      "df['BLACK'] = (df.RACEGROUP == 3).astype(int)\n",
      "df['HISP'] = (df.RACEGROUP == 4).astype(int)\n",
      "df['INC'] = df.INCOME - df.INCOME.mean()\n",
      "df['INC2'] = df.INC**2"
     ],
     "language": "python",
     "metadata": {},
     "outputs": [],
     "prompt_number": 80
    },
    {
     "cell_type": "code",
     "collapsed": false,
     "input": [],
     "language": "python",
     "metadata": {},
     "outputs": [],
     "prompt_number": 80
    },
    {
     "cell_type": "code",
     "collapsed": false,
     "input": [
      "import statsmodels.formula.api as smf\n",
      "\n",
      "\n",
      "formula = ('HASRELIG ~ MNONE + FNONE + MIXED + '\n",
      "                  'ASIAN + BLACK + HISP + INC + INC2 + '\n",
      "                  'ACT08 + ACT09 + ACT21 + ACT28 + ACT29 + '\n",
      "                  'ACT17_T + ACT21_T + ACT24_T')\n",
      "            \n",
      "formula = ('HASRELIG ~ MNONE + FNONE + MIXED + '\n",
      "                  'ASIAN + BLACK + HISP + INC + INC2 + '\n",
      "                  'ACT17_T')\n",
      "            \n",
      "model = smf.logit(formula, data=df)\n",
      "results = model.fit()\n",
      "results.summary()"
     ],
     "language": "python",
     "metadata": {},
     "outputs": [
      {
       "output_type": "stream",
       "stream": "stdout",
       "text": [
        "Optimization terminated successfully.\n",
        "         Current function value: 0.321774\n",
        "         Iterations 7\n"
       ]
      },
      {
       "html": [
        "<table class=\"simpletable\">\n",
        "<caption>Logit Regression Results</caption>\n",
        "<tr>\n",
        "  <th>Dep. Variable:</th>     <td>HASRELIG</td>     <th>  No. Observations:  </th>  <td>223570</td> \n",
        "</tr>\n",
        "<tr>\n",
        "  <th>Model:</th>               <td>Logit</td>      <th>  Df Residuals:      </th>  <td>223560</td> \n",
        "</tr>\n",
        "<tr>\n",
        "  <th>Method:</th>               <td>MLE</td>       <th>  Df Model:          </th>  <td>     9</td> \n",
        "</tr>\n",
        "<tr>\n",
        "  <th>Date:</th>          <td>Wed, 22 Jul 2015</td> <th>  Pseudo R-squ.:     </th>  <td>0.2527</td> \n",
        "</tr>\n",
        "<tr>\n",
        "  <th>Time:</th>              <td>16:41:35</td>     <th>  Log-Likelihood:    </th> <td> -71939.</td>\n",
        "</tr>\n",
        "<tr>\n",
        "  <th>converged:</th>           <td>True</td>       <th>  LL-Null:           </th> <td> -96271.</td>\n",
        "</tr>\n",
        "<tr>\n",
        "  <th> </th>                      <td> </td>        <th>  LLR p-value:       </th>  <td> 0.000</td> \n",
        "</tr>\n",
        "</table>\n",
        "<table class=\"simpletable\">\n",
        "<tr>\n",
        "      <td></td>         <th>coef</th>     <th>std err</th>      <th>z</th>      <th>P>|z|</th> <th>[95.0% Conf. Int.]</th> \n",
        "</tr>\n",
        "<tr>\n",
        "  <th>Intercept</th> <td>    2.9338</td> <td>    0.026</td> <td>  113.334</td> <td> 0.000</td> <td>    2.883     2.984</td>\n",
        "</tr>\n",
        "<tr>\n",
        "  <th>MNONE</th>     <td>   -2.8543</td> <td>    0.025</td> <td> -112.414</td> <td> 0.000</td> <td>   -2.904    -2.804</td>\n",
        "</tr>\n",
        "<tr>\n",
        "  <th>FNONE</th>     <td>   -1.3263</td> <td>    0.020</td> <td>  -66.305</td> <td> 0.000</td> <td>   -1.365    -1.287</td>\n",
        "</tr>\n",
        "<tr>\n",
        "  <th>MIXED</th>     <td>   -0.6334</td> <td>    0.015</td> <td>  -41.886</td> <td> 0.000</td> <td>   -0.663    -0.604</td>\n",
        "</tr>\n",
        "<tr>\n",
        "  <th>ASIAN</th>     <td>   -0.4040</td> <td>    0.026</td> <td>  -15.566</td> <td> 0.000</td> <td>   -0.455    -0.353</td>\n",
        "</tr>\n",
        "<tr>\n",
        "  <th>BLACK</th>     <td>    0.6087</td> <td>    0.037</td> <td>   16.372</td> <td> 0.000</td> <td>    0.536     0.682</td>\n",
        "</tr>\n",
        "<tr>\n",
        "  <th>HISP</th>      <td>    0.1321</td> <td>    0.040</td> <td>    3.290</td> <td> 0.001</td> <td>    0.053     0.211</td>\n",
        "</tr>\n",
        "<tr>\n",
        "  <th>INC</th>       <td>   -0.0189</td> <td>    0.001</td> <td>  -12.623</td> <td> 0.000</td> <td>   -0.022    -0.016</td>\n",
        "</tr>\n",
        "<tr>\n",
        "  <th>INC2</th>      <td>   -0.0017</td> <td>    0.000</td> <td>   -8.492</td> <td> 0.000</td> <td>   -0.002    -0.001</td>\n",
        "</tr>\n",
        "<tr>\n",
        "  <th>ACT17_T</th>   <td>   -0.1526</td> <td>    0.010</td> <td>  -15.379</td> <td> 0.000</td> <td>   -0.172    -0.133</td>\n",
        "</tr>\n",
        "</table>"
       ],
       "metadata": {},
       "output_type": "pyout",
       "prompt_number": 81,
       "text": [
        "<class 'statsmodels.iolib.summary.Summary'>\n",
        "\"\"\"\n",
        "                           Logit Regression Results                           \n",
        "==============================================================================\n",
        "Dep. Variable:               HASRELIG   No. Observations:               223570\n",
        "Model:                          Logit   Df Residuals:                   223560\n",
        "Method:                           MLE   Df Model:                            9\n",
        "Date:                Wed, 22 Jul 2015   Pseudo R-squ.:                  0.2527\n",
        "Time:                        16:41:35   Log-Likelihood:                -71939.\n",
        "converged:                       True   LL-Null:                       -96271.\n",
        "                                        LLR p-value:                     0.000\n",
        "==============================================================================\n",
        "                 coef    std err          z      P>|z|      [95.0% Conf. Int.]\n",
        "------------------------------------------------------------------------------\n",
        "Intercept      2.9338      0.026    113.334      0.000         2.883     2.984\n",
        "MNONE         -2.8543      0.025   -112.414      0.000        -2.904    -2.804\n",
        "FNONE         -1.3263      0.020    -66.305      0.000        -1.365    -1.287\n",
        "MIXED         -0.6334      0.015    -41.886      0.000        -0.663    -0.604\n",
        "ASIAN         -0.4040      0.026    -15.566      0.000        -0.455    -0.353\n",
        "BLACK          0.6087      0.037     16.372      0.000         0.536     0.682\n",
        "HISP           0.1321      0.040      3.290      0.001         0.053     0.211\n",
        "INC           -0.0189      0.001    -12.623      0.000        -0.022    -0.016\n",
        "INC2          -0.0017      0.000     -8.492      0.000        -0.002    -0.001\n",
        "ACT17_T       -0.1526      0.010    -15.379      0.000        -0.172    -0.133\n",
        "==============================================================================\n",
        "\"\"\""
       ]
      }
     ],
     "prompt_number": 81
    },
    {
     "cell_type": "code",
     "collapsed": false,
     "input": [],
     "language": "python",
     "metadata": {},
     "outputs": [],
     "prompt_number": 81
    },
    {
     "cell_type": "code",
     "collapsed": false,
     "input": [],
     "language": "python",
     "metadata": {},
     "outputs": []
    }
   ],
   "metadata": {}
  }
 ]
}