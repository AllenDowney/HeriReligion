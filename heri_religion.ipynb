{
 "metadata": {
  "name": "",
  "signature": "sha256:32d859123037c1f95846e1866e07e0257367f4c6867489dd59c395dae42d2281"
 },
 "nbformat": 3,
 "nbformat_minor": 0,
 "worksheets": [
  {
   "cells": [
    {
     "cell_type": "code",
     "collapsed": false,
     "input": [
      "import savReaderWriter as s\n",
      "import pandas as pd\n",
      "import numpy as np"
     ],
     "language": "python",
     "metadata": {},
     "outputs": [],
     "prompt_number": 45
    },
    {
     "cell_type": "code",
     "collapsed": false,
     "input": [
      "store = pd.HDFStore('dem.h5')\n",
      "store"
     ],
     "language": "python",
     "metadata": {},
     "outputs": [
      {
       "metadata": {},
       "output_type": "pyout",
       "prompt_number": 2,
       "text": [
        "<class 'pandas.io.pytables.HDFStore'>\n",
        "File path: dem.h5\n",
        "/dem            frame        (shape->[5535264,14])"
       ]
      }
     ],
     "prompt_number": 2
    },
    {
     "cell_type": "code",
     "collapsed": false,
     "input": [
      "store = pd.HDFStore('hs.h5')\n",
      "store"
     ],
     "language": "python",
     "metadata": {},
     "outputs": [
      {
       "metadata": {},
       "output_type": "pyout",
       "prompt_number": 3,
       "text": [
        "<class 'pandas.io.pytables.HDFStore'>\n",
        "File path: hs.h5\n",
        "/hs            frame        (shape->[5535264,16])"
       ]
      }
     ],
     "prompt_number": 3
    },
    {
     "cell_type": "code",
     "collapsed": false,
     "input": [
      "dem = pd.read_pickle('dem.pkl')\n",
      "dem.shape"
     ],
     "language": "python",
     "metadata": {},
     "outputs": [
      {
       "metadata": {},
       "output_type": "pyout",
       "prompt_number": 42,
       "text": [
        "(5535264, 14)"
       ]
      }
     ],
     "prompt_number": 42
    },
    {
     "cell_type": "code",
     "collapsed": false,
     "input": [
      "dem.YEAR"
     ],
     "language": "python",
     "metadata": {},
     "outputs": [
      {
       "metadata": {},
       "output_type": "pyout",
       "prompt_number": 53,
       "text": [
        "0     1971\n",
        "1     1971\n",
        "2     1971\n",
        "3     1971\n",
        "4     1971\n",
        "5     1971\n",
        "6     1971\n",
        "7     1971\n",
        "8     1971\n",
        "9     1971\n",
        "10    1971\n",
        "11    1971\n",
        "12    1971\n",
        "13    1971\n",
        "14    1971\n",
        "...\n",
        "5535249    1999\n",
        "5535250    1999\n",
        "5535251    1999\n",
        "5535252    1999\n",
        "5535253    1999\n",
        "5535254    1999\n",
        "5535255    1999\n",
        "5535256    1999\n",
        "5535257    1999\n",
        "5535258    1999\n",
        "5535259    1999\n",
        "5535260    1999\n",
        "5535261    1999\n",
        "5535262    1999\n",
        "5535263    1999\n",
        "Name: YEAR, Length: 5535264, dtype: float64"
       ]
      }
     ],
     "prompt_number": 53
    },
    {
     "cell_type": "code",
     "collapsed": false,
     "input": [
      "na == -1.7976931348623157e+308"
     ],
     "language": "python",
     "metadata": {},
     "outputs": [
      {
       "metadata": {},
       "output_type": "pyout",
       "prompt_number": 52,
       "text": [
        "True"
       ]
      }
     ],
     "prompt_number": 52
    },
    {
     "cell_type": "code",
     "collapsed": false,
     "input": [
      "dem.head()"
     ],
     "language": "python",
     "metadata": {},
     "outputs": [
      {
       "html": [
        "<div style=\"max-height:1000px;max-width:1500px;overflow:auto;\">\n",
        "<table border=\"1\" class=\"dataframe\">\n",
        "  <thead>\n",
        "    <tr style=\"text-align: right;\">\n",
        "      <th></th>\n",
        "      <th>YEAR</th>\n",
        "      <th>SUBJID</th>\n",
        "      <th>SEX</th>\n",
        "      <th>AGE1</th>\n",
        "      <th>AGE2</th>\n",
        "      <th>RRACE</th>\n",
        "      <th>RACEGROUP</th>\n",
        "      <th>INCOME</th>\n",
        "      <th>FATHEDUC</th>\n",
        "      <th>MOTHEDUC</th>\n",
        "      <th>FIRSTGEN</th>\n",
        "      <th>FRELIGIONA</th>\n",
        "      <th>MRELIGIONA</th>\n",
        "      <th>SRELIGIONA</th>\n",
        "    </tr>\n",
        "  </thead>\n",
        "  <tbody>\n",
        "    <tr>\n",
        "      <th>0</th>\n",
        "      <td> 1971</td>\n",
        "      <td> 168941</td>\n",
        "      <td> 2</td>\n",
        "      <td> 3</td>\n",
        "      <td> 3</td>\n",
        "      <td> 2</td>\n",
        "      <td> 3</td>\n",
        "      <td> 1</td>\n",
        "      <td> 0</td>\n",
        "      <td> 1</td>\n",
        "      <td> 2</td>\n",
        "      <td>NaN</td>\n",
        "      <td>NaN</td>\n",
        "      <td> 4</td>\n",
        "    </tr>\n",
        "    <tr>\n",
        "      <th>1</th>\n",
        "      <td> 1971</td>\n",
        "      <td> 168942</td>\n",
        "      <td> 1</td>\n",
        "      <td> 3</td>\n",
        "      <td> 3</td>\n",
        "      <td> 2</td>\n",
        "      <td> 3</td>\n",
        "      <td> 5</td>\n",
        "      <td> 2</td>\n",
        "      <td> 6</td>\n",
        "      <td> 1</td>\n",
        "      <td>NaN</td>\n",
        "      <td>NaN</td>\n",
        "      <td> 4</td>\n",
        "    </tr>\n",
        "    <tr>\n",
        "      <th>2</th>\n",
        "      <td> 1971</td>\n",
        "      <td> 168943</td>\n",
        "      <td> 2</td>\n",
        "      <td> 3</td>\n",
        "      <td> 3</td>\n",
        "      <td> 2</td>\n",
        "      <td> 3</td>\n",
        "      <td> 1</td>\n",
        "      <td> 2</td>\n",
        "      <td> 1</td>\n",
        "      <td> 2</td>\n",
        "      <td>NaN</td>\n",
        "      <td>NaN</td>\n",
        "      <td> 1</td>\n",
        "    </tr>\n",
        "    <tr>\n",
        "      <th>3</th>\n",
        "      <td> 1971</td>\n",
        "      <td> 168944</td>\n",
        "      <td> 1</td>\n",
        "      <td> 4</td>\n",
        "      <td> 4</td>\n",
        "      <td> 2</td>\n",
        "      <td> 3</td>\n",
        "      <td> 1</td>\n",
        "      <td> 2</td>\n",
        "      <td> 2</td>\n",
        "      <td> 2</td>\n",
        "      <td>NaN</td>\n",
        "      <td>NaN</td>\n",
        "      <td> 5</td>\n",
        "    </tr>\n",
        "    <tr>\n",
        "      <th>4</th>\n",
        "      <td> 1971</td>\n",
        "      <td> 168945</td>\n",
        "      <td> 1</td>\n",
        "      <td> 5</td>\n",
        "      <td> 5</td>\n",
        "      <td> 2</td>\n",
        "      <td> 3</td>\n",
        "      <td> 1</td>\n",
        "      <td> 2</td>\n",
        "      <td> 2</td>\n",
        "      <td> 2</td>\n",
        "      <td>NaN</td>\n",
        "      <td>NaN</td>\n",
        "      <td> 4</td>\n",
        "    </tr>\n",
        "  </tbody>\n",
        "</table>\n",
        "</div>"
       ],
       "metadata": {},
       "output_type": "pyout",
       "prompt_number": 48,
       "text": [
        "   YEAR  SUBJID  SEX  AGE1  AGE2  RRACE  RACEGROUP  INCOME  FATHEDUC  \\\n",
        "0  1971  168941    2     3     3      2          3       1         0   \n",
        "1  1971  168942    1     3     3      2          3       5         2   \n",
        "2  1971  168943    2     3     3      2          3       1         2   \n",
        "3  1971  168944    1     4     4      2          3       1         2   \n",
        "4  1971  168945    1     5     5      2          3       1         2   \n",
        "\n",
        "   MOTHEDUC  FIRSTGEN  FRELIGIONA  MRELIGIONA  SRELIGIONA  \n",
        "0         1         2         NaN         NaN           4  \n",
        "1         6         1         NaN         NaN           4  \n",
        "2         1         2         NaN         NaN           1  \n",
        "3         2         2         NaN         NaN           5  \n",
        "4         2         2         NaN         NaN           4  "
       ]
      }
     ],
     "prompt_number": 48
    },
    {
     "cell_type": "code",
     "collapsed": false,
     "input": [
      "hs = pd.read_pickle('hs.pkl')\n",
      "hs.shape"
     ],
     "language": "python",
     "metadata": {},
     "outputs": [
      {
       "metadata": {},
       "output_type": "pyout",
       "prompt_number": 30,
       "text": [
        "(5535264, 16)"
       ]
      }
     ],
     "prompt_number": 30
    },
    {
     "cell_type": "code",
     "collapsed": false,
     "input": [],
     "language": "python",
     "metadata": {},
     "outputs": []
    },
    {
     "cell_type": "code",
     "collapsed": false,
     "input": [
      "hs.tail()"
     ],
     "language": "python",
     "metadata": {},
     "outputs": [
      {
       "html": [
        "<div style=\"max-height:1000px;max-width:1500px;overflow:auto;\">\n",
        "<table border=\"1\" class=\"dataframe\">\n",
        "  <thead>\n",
        "    <tr style=\"text-align: right;\">\n",
        "      <th></th>\n",
        "      <th>YEAR</th>\n",
        "      <th>SUBJID</th>\n",
        "      <th>HSGPA</th>\n",
        "      <th>SATV</th>\n",
        "      <th>SATM</th>\n",
        "      <th>SATW</th>\n",
        "      <th>ACTCOMP</th>\n",
        "      <th>ACT08</th>\n",
        "      <th>ACT09</th>\n",
        "      <th>ACT21</th>\n",
        "      <th>ACT25</th>\n",
        "      <th>ACT28</th>\n",
        "      <th>ACT29</th>\n",
        "      <th>ACT17_T</th>\n",
        "      <th>ACT21_T</th>\n",
        "      <th>ACT24_T</th>\n",
        "    </tr>\n",
        "  </thead>\n",
        "  <tbody>\n",
        "    <tr>\n",
        "      <th>5535259</th>\n",
        "      <td> 1982</td>\n",
        "      <td> 127495</td>\n",
        "      <td> 5</td>\n",
        "      <td>-1.797693e+308</td>\n",
        "      <td>-1.797693e+308</td>\n",
        "      <td>-1.797693e+308</td>\n",
        "      <td>-1.797693e+308</td>\n",
        "      <td>-1.797693e+308</td>\n",
        "      <td>-1.797693e+308</td>\n",
        "      <td> 1</td>\n",
        "      <td>-1.797693e+308</td>\n",
        "      <td>-1.797693e+308</td>\n",
        "      <td>-1.797693e+308</td>\n",
        "      <td>-1.797693e+308</td>\n",
        "      <td>-1.797693e+308</td>\n",
        "      <td>-1.797693e+308</td>\n",
        "    </tr>\n",
        "    <tr>\n",
        "      <th>5535260</th>\n",
        "      <td> 1982</td>\n",
        "      <td> 127496</td>\n",
        "      <td> 5</td>\n",
        "      <td>-1.797693e+308</td>\n",
        "      <td>-1.797693e+308</td>\n",
        "      <td>-1.797693e+308</td>\n",
        "      <td>-1.797693e+308</td>\n",
        "      <td>-1.797693e+308</td>\n",
        "      <td>-1.797693e+308</td>\n",
        "      <td> 1</td>\n",
        "      <td>-1.797693e+308</td>\n",
        "      <td>-1.797693e+308</td>\n",
        "      <td>-1.797693e+308</td>\n",
        "      <td>-1.797693e+308</td>\n",
        "      <td>-1.797693e+308</td>\n",
        "      <td>-1.797693e+308</td>\n",
        "    </tr>\n",
        "    <tr>\n",
        "      <th>5535261</th>\n",
        "      <td> 1982</td>\n",
        "      <td> 127498</td>\n",
        "      <td> 7</td>\n",
        "      <td>-1.797693e+308</td>\n",
        "      <td>-1.797693e+308</td>\n",
        "      <td>-1.797693e+308</td>\n",
        "      <td>-1.797693e+308</td>\n",
        "      <td>-1.797693e+308</td>\n",
        "      <td>-1.797693e+308</td>\n",
        "      <td> 1</td>\n",
        "      <td>-1.797693e+308</td>\n",
        "      <td>-1.797693e+308</td>\n",
        "      <td>-1.797693e+308</td>\n",
        "      <td>-1.797693e+308</td>\n",
        "      <td>-1.797693e+308</td>\n",
        "      <td>-1.797693e+308</td>\n",
        "    </tr>\n",
        "    <tr>\n",
        "      <th>5535262</th>\n",
        "      <td> 1982</td>\n",
        "      <td> 127499</td>\n",
        "      <td> 6</td>\n",
        "      <td>-1.797693e+308</td>\n",
        "      <td>-1.797693e+308</td>\n",
        "      <td>-1.797693e+308</td>\n",
        "      <td>-1.797693e+308</td>\n",
        "      <td>-1.797693e+308</td>\n",
        "      <td>-1.797693e+308</td>\n",
        "      <td> 1</td>\n",
        "      <td>-1.797693e+308</td>\n",
        "      <td>-1.797693e+308</td>\n",
        "      <td>-1.797693e+308</td>\n",
        "      <td>-1.797693e+308</td>\n",
        "      <td>-1.797693e+308</td>\n",
        "      <td>-1.797693e+308</td>\n",
        "    </tr>\n",
        "    <tr>\n",
        "      <th>5535263</th>\n",
        "      <td> 1982</td>\n",
        "      <td> 127504</td>\n",
        "      <td> 2</td>\n",
        "      <td>-1.797693e+308</td>\n",
        "      <td>-1.797693e+308</td>\n",
        "      <td>-1.797693e+308</td>\n",
        "      <td>-1.797693e+308</td>\n",
        "      <td>-1.797693e+308</td>\n",
        "      <td>-1.797693e+308</td>\n",
        "      <td> 2</td>\n",
        "      <td>-1.797693e+308</td>\n",
        "      <td>-1.797693e+308</td>\n",
        "      <td>-1.797693e+308</td>\n",
        "      <td>-1.797693e+308</td>\n",
        "      <td>-1.797693e+308</td>\n",
        "      <td>-1.797693e+308</td>\n",
        "    </tr>\n",
        "  </tbody>\n",
        "</table>\n",
        "</div>"
       ],
       "metadata": {},
       "output_type": "pyout",
       "prompt_number": 31,
       "text": [
        "         YEAR  SUBJID  HSGPA           SATV           SATM           SATW  \\\n",
        "5535259  1982  127495      5 -1.797693e+308 -1.797693e+308 -1.797693e+308   \n",
        "5535260  1982  127496      5 -1.797693e+308 -1.797693e+308 -1.797693e+308   \n",
        "5535261  1982  127498      7 -1.797693e+308 -1.797693e+308 -1.797693e+308   \n",
        "5535262  1982  127499      6 -1.797693e+308 -1.797693e+308 -1.797693e+308   \n",
        "5535263  1982  127504      2 -1.797693e+308 -1.797693e+308 -1.797693e+308   \n",
        "\n",
        "               ACTCOMP          ACT08          ACT09  ACT21          ACT25  \\\n",
        "5535259 -1.797693e+308 -1.797693e+308 -1.797693e+308      1 -1.797693e+308   \n",
        "5535260 -1.797693e+308 -1.797693e+308 -1.797693e+308      1 -1.797693e+308   \n",
        "5535261 -1.797693e+308 -1.797693e+308 -1.797693e+308      1 -1.797693e+308   \n",
        "5535262 -1.797693e+308 -1.797693e+308 -1.797693e+308      1 -1.797693e+308   \n",
        "5535263 -1.797693e+308 -1.797693e+308 -1.797693e+308      2 -1.797693e+308   \n",
        "\n",
        "                 ACT28          ACT29        ACT17_T        ACT21_T  \\\n",
        "5535259 -1.797693e+308 -1.797693e+308 -1.797693e+308 -1.797693e+308   \n",
        "5535260 -1.797693e+308 -1.797693e+308 -1.797693e+308 -1.797693e+308   \n",
        "5535261 -1.797693e+308 -1.797693e+308 -1.797693e+308 -1.797693e+308   \n",
        "5535262 -1.797693e+308 -1.797693e+308 -1.797693e+308 -1.797693e+308   \n",
        "5535263 -1.797693e+308 -1.797693e+308 -1.797693e+308 -1.797693e+308   \n",
        "\n",
        "               ACT24_T  \n",
        "5535259 -1.797693e+308  \n",
        "5535260 -1.797693e+308  \n",
        "5535261 -1.797693e+308  \n",
        "5535262 -1.797693e+308  \n",
        "5535263 -1.797693e+308  "
       ]
      }
     ],
     "prompt_number": 31
    },
    {
     "cell_type": "code",
     "collapsed": false,
     "input": [
      "dems = dem.groupby('YEAR')\n",
      "hss = hs.groupby('YEAR')"
     ],
     "language": "python",
     "metadata": {},
     "outputs": [],
     "prompt_number": 35
    },
    {
     "cell_type": "code",
     "collapsed": false,
     "input": [
      "for name, group in dems:\n",
      "    group.index = group.SUBJID\n",
      "    \n",
      "for name, group in hss:\n",
      "    group.index = group.SUBJID"
     ],
     "language": "python",
     "metadata": {},
     "outputs": [],
     "prompt_number": 39
    },
    {
     "cell_type": "code",
     "collapsed": false,
     "input": [
      "dem99 = dems.get_group(1999)"
     ],
     "language": "python",
     "metadata": {},
     "outputs": []
    },
    {
     "cell_type": "code",
     "collapsed": false,
     "input": [
      "columns = ['YEAR', 'SUBJID', 'SEX', 'AGE1', 'AGE2', 'RRACE', 'RACEGROUP', 'INCOME',\n",
      "            'FATHEDUC', 'MOTHEDUC', 'FIRSTGEN', 'FRELIGIONA', 'MRELIGIONA', 'SRELIGIONA']\n",
      "indices = [header.index(col) for col in columns]\n",
      "indices"
     ],
     "language": "python",
     "metadata": {},
     "outputs": [
      {
       "metadata": {},
       "output_type": "pyout",
       "prompt_number": 58,
       "text": [
        "[0, 2, 13, 14, 15, 26, 25, 79, 81, 82, 84, 88, 89, 72]"
       ]
      }
     ],
     "prompt_number": 58
    },
    {
     "cell_type": "code",
     "collapsed": false,
     "input": [
      "rows = []\n",
      "for i, line in enumerate(reader1):\n",
      "    values = [line[index] for index in indices]\n",
      "    rows.append(values)\n",
      "    if i == 100:\n",
      "        break\n",
      "        \n",
      "len(rows)"
     ],
     "language": "python",
     "metadata": {},
     "outputs": [
      {
       "output_type": "stream",
       "stream": "stdout",
       "text": [
        "0.2%...  "
       ]
      },
      {
       "output_type": "stream",
       "stream": "stdout",
       "text": [
        "0.4%...  "
       ]
      },
      {
       "output_type": "stream",
       "stream": "stdout",
       "text": [
        "0.5%...  "
       ]
      },
      {
       "output_type": "stream",
       "stream": "stdout",
       "text": [
        "0.7%...  "
       ]
      },
      {
       "output_type": "stream",
       "stream": "stdout",
       "text": [
        "0.9%...  "
       ]
      },
      {
       "output_type": "stream",
       "stream": "stdout",
       "text": [
        "1.1%...  "
       ]
      },
      {
       "output_type": "stream",
       "stream": "stdout",
       "text": [
        "1.3%...  "
       ]
      },
      {
       "output_type": "stream",
       "stream": "stdout",
       "text": [
        "1.4%...  "
       ]
      },
      {
       "output_type": "stream",
       "stream": "stdout",
       "text": [
        "1.6%...  "
       ]
      },
      {
       "output_type": "stream",
       "stream": "stdout",
       "text": [
        "1.8%...  "
       ]
      },
      {
       "output_type": "stream",
       "stream": "stdout",
       "text": [
        "2.0%...  "
       ]
      },
      {
       "output_type": "stream",
       "stream": "stdout",
       "text": [
        "2.2%...  "
       ]
      },
      {
       "output_type": "stream",
       "stream": "stdout",
       "text": [
        "2.3%...  "
       ]
      },
      {
       "output_type": "stream",
       "stream": "stdout",
       "text": [
        "2.5%...  "
       ]
      },
      {
       "output_type": "stream",
       "stream": "stdout",
       "text": [
        "2.7%...  "
       ]
      },
      {
       "output_type": "stream",
       "stream": "stdout",
       "text": [
        "2.9%...  "
       ]
      },
      {
       "output_type": "stream",
       "stream": "stdout",
       "text": [
        "3.1%...  "
       ]
      },
      {
       "output_type": "stream",
       "stream": "stdout",
       "text": [
        "3.3%...  "
       ]
      },
      {
       "output_type": "stream",
       "stream": "stdout",
       "text": [
        "3.4%...  "
       ]
      },
      {
       "output_type": "stream",
       "stream": "stdout",
       "text": [
        "3.6%...  "
       ]
      },
      {
       "output_type": "stream",
       "stream": "stdout",
       "text": [
        "3.8%...  "
       ]
      },
      {
       "output_type": "stream",
       "stream": "stdout",
       "text": [
        "4.0%...  "
       ]
      },
      {
       "output_type": "stream",
       "stream": "stdout",
       "text": [
        "4.2%...  "
       ]
      },
      {
       "output_type": "stream",
       "stream": "stdout",
       "text": [
        "4.3%...  "
       ]
      },
      {
       "output_type": "stream",
       "stream": "stdout",
       "text": [
        "4.5%...  "
       ]
      },
      {
       "output_type": "stream",
       "stream": "stdout",
       "text": [
        "4.7%...  "
       ]
      },
      {
       "output_type": "stream",
       "stream": "stdout",
       "text": [
        "4.9%...  "
       ]
      },
      {
       "output_type": "stream",
       "stream": "stdout",
       "text": [
        "5.1%...  "
       ]
      },
      {
       "output_type": "stream",
       "stream": "stdout",
       "text": [
        "5.2%...  "
       ]
      },
      {
       "output_type": "stream",
       "stream": "stdout",
       "text": [
        "5.4%...  "
       ]
      },
      {
       "output_type": "stream",
       "stream": "stdout",
       "text": [
        "5.6%...  "
       ]
      },
      {
       "output_type": "stream",
       "stream": "stdout",
       "text": [
        "5.8%...  "
       ]
      },
      {
       "output_type": "stream",
       "stream": "stdout",
       "text": [
        "6.0%...  "
       ]
      },
      {
       "output_type": "stream",
       "stream": "stdout",
       "text": [
        "6.1%...  "
       ]
      },
      {
       "output_type": "stream",
       "stream": "stdout",
       "text": [
        "6.3%...  "
       ]
      },
      {
       "output_type": "stream",
       "stream": "stdout",
       "text": [
        "6.5%...  "
       ]
      },
      {
       "output_type": "stream",
       "stream": "stdout",
       "text": [
        "6.7%...  "
       ]
      },
      {
       "output_type": "stream",
       "stream": "stdout",
       "text": [
        "6.9%...  "
       ]
      },
      {
       "output_type": "stream",
       "stream": "stdout",
       "text": [
        "7.0%...  "
       ]
      },
      {
       "output_type": "stream",
       "stream": "stdout",
       "text": [
        "7.2%...  "
       ]
      },
      {
       "output_type": "stream",
       "stream": "stdout",
       "text": [
        "7.4%...  "
       ]
      },
      {
       "output_type": "stream",
       "stream": "stdout",
       "text": [
        "7.6%...  "
       ]
      },
      {
       "output_type": "stream",
       "stream": "stdout",
       "text": [
        "7.8%...  "
       ]
      },
      {
       "output_type": "stream",
       "stream": "stdout",
       "text": [
        "7.9%...  "
       ]
      },
      {
       "output_type": "stream",
       "stream": "stdout",
       "text": [
        "8.1%...  "
       ]
      },
      {
       "output_type": "stream",
       "stream": "stdout",
       "text": [
        "8.3%...  "
       ]
      },
      {
       "output_type": "stream",
       "stream": "stdout",
       "text": [
        "8.5%...  "
       ]
      },
      {
       "output_type": "stream",
       "stream": "stdout",
       "text": [
        "8.7%...  "
       ]
      },
      {
       "output_type": "stream",
       "stream": "stdout",
       "text": [
        "8.9%...  "
       ]
      },
      {
       "output_type": "stream",
       "stream": "stdout",
       "text": [
        "9.0%...  "
       ]
      },
      {
       "output_type": "stream",
       "stream": "stdout",
       "text": [
        "9.2%...  "
       ]
      },
      {
       "output_type": "stream",
       "stream": "stdout",
       "text": [
        "9.4%...  "
       ]
      },
      {
       "output_type": "stream",
       "stream": "stdout",
       "text": [
        "9.6%...  "
       ]
      },
      {
       "output_type": "stream",
       "stream": "stdout",
       "text": [
        "9.8%...  "
       ]
      },
      {
       "output_type": "stream",
       "stream": "stdout",
       "text": [
        "9.9%...  "
       ]
      },
      {
       "output_type": "stream",
       "stream": "stdout",
       "text": [
        "10.1%...  "
       ]
      },
      {
       "output_type": "stream",
       "stream": "stdout",
       "text": [
        "10.3%...  "
       ]
      },
      {
       "output_type": "stream",
       "stream": "stdout",
       "text": [
        "10.5%...  "
       ]
      },
      {
       "output_type": "stream",
       "stream": "stdout",
       "text": [
        "10.7%...  "
       ]
      },
      {
       "output_type": "stream",
       "stream": "stdout",
       "text": [
        "10.8%...  "
       ]
      },
      {
       "output_type": "stream",
       "stream": "stdout",
       "text": [
        "11.0%...  "
       ]
      },
      {
       "output_type": "stream",
       "stream": "stdout",
       "text": [
        "11.2%...  "
       ]
      },
      {
       "output_type": "stream",
       "stream": "stdout",
       "text": [
        "11.4%...  "
       ]
      },
      {
       "output_type": "stream",
       "stream": "stdout",
       "text": [
        "11.6%...  "
       ]
      },
      {
       "output_type": "stream",
       "stream": "stdout",
       "text": [
        "11.7%...  "
       ]
      },
      {
       "output_type": "stream",
       "stream": "stdout",
       "text": [
        "11.9%...  "
       ]
      },
      {
       "output_type": "stream",
       "stream": "stdout",
       "text": [
        "12.1%...  "
       ]
      },
      {
       "output_type": "stream",
       "stream": "stdout",
       "text": [
        "12.3%...  "
       ]
      },
      {
       "output_type": "stream",
       "stream": "stdout",
       "text": [
        "12.5%...  "
       ]
      },
      {
       "output_type": "stream",
       "stream": "stdout",
       "text": [
        "12.6%...  "
       ]
      },
      {
       "output_type": "stream",
       "stream": "stdout",
       "text": [
        "12.8%...  "
       ]
      },
      {
       "output_type": "stream",
       "stream": "stdout",
       "text": [
        "13.0%...  "
       ]
      },
      {
       "output_type": "stream",
       "stream": "stdout",
       "text": [
        "13.2%...  "
       ]
      },
      {
       "output_type": "stream",
       "stream": "stdout",
       "text": [
        "13.4%...  "
       ]
      },
      {
       "output_type": "stream",
       "stream": "stdout",
       "text": [
        "13.5%...  "
       ]
      },
      {
       "output_type": "stream",
       "stream": "stdout",
       "text": [
        "13.7%...  "
       ]
      },
      {
       "output_type": "stream",
       "stream": "stdout",
       "text": [
        "13.9%...  "
       ]
      },
      {
       "output_type": "stream",
       "stream": "stdout",
       "text": [
        "14.1%...  "
       ]
      },
      {
       "output_type": "stream",
       "stream": "stdout",
       "text": [
        "14.3%...  "
       ]
      },
      {
       "output_type": "stream",
       "stream": "stdout",
       "text": [
        "14.5%...  "
       ]
      },
      {
       "output_type": "stream",
       "stream": "stdout",
       "text": [
        "14.6%...  "
       ]
      },
      {
       "output_type": "stream",
       "stream": "stdout",
       "text": [
        "14.8%...  "
       ]
      },
      {
       "output_type": "stream",
       "stream": "stdout",
       "text": [
        "15.0%...  "
       ]
      },
      {
       "output_type": "stream",
       "stream": "stdout",
       "text": [
        "15.2%...  "
       ]
      },
      {
       "output_type": "stream",
       "stream": "stdout",
       "text": [
        "15.4%...  "
       ]
      },
      {
       "output_type": "stream",
       "stream": "stdout",
       "text": [
        "15.5%...  "
       ]
      },
      {
       "output_type": "stream",
       "stream": "stdout",
       "text": [
        "15.7%...  "
       ]
      },
      {
       "output_type": "stream",
       "stream": "stdout",
       "text": [
        "15.9%...  "
       ]
      },
      {
       "output_type": "stream",
       "stream": "stdout",
       "text": [
        "16.1%...  "
       ]
      },
      {
       "output_type": "stream",
       "stream": "stdout",
       "text": [
        "16.3%...  "
       ]
      },
      {
       "output_type": "stream",
       "stream": "stdout",
       "text": [
        "16.4%...  "
       ]
      },
      {
       "output_type": "stream",
       "stream": "stdout",
       "text": [
        "16.6%...  "
       ]
      },
      {
       "output_type": "stream",
       "stream": "stdout",
       "text": [
        "16.8%...  "
       ]
      },
      {
       "output_type": "stream",
       "stream": "stdout",
       "text": [
        "17.0%...  "
       ]
      },
      {
       "output_type": "stream",
       "stream": "stdout",
       "text": [
        "17.2%...  "
       ]
      },
      {
       "output_type": "stream",
       "stream": "stdout",
       "text": [
        "17.3%...  "
       ]
      },
      {
       "output_type": "stream",
       "stream": "stdout",
       "text": [
        "17.5%...  "
       ]
      },
      {
       "output_type": "stream",
       "stream": "stdout",
       "text": [
        "17.7%...  "
       ]
      },
      {
       "output_type": "stream",
       "stream": "stdout",
       "text": [
        "17.9%...  "
       ]
      },
      {
       "output_type": "stream",
       "stream": "stdout",
       "text": [
        "18.1%... "
       ]
      },
      {
       "metadata": {},
       "output_type": "pyout",
       "prompt_number": 48,
       "text": [
        "1000001"
       ]
      },
      {
       "output_type": "stream",
       "stream": "stdout",
       "text": [
        "\n"
       ]
      }
     ],
     "prompt_number": 48
    },
    {
     "cell_type": "code",
     "collapsed": false,
     "input": [
      "reader = s.SavReader('2 HIGH SCHOOL.SAV', rawMode=True)\n",
      "header = reader.getHeader(None)\n",
      "header"
     ],
     "language": "python",
     "metadata": {},
     "outputs": [
      {
       "metadata": {},
       "output_type": "pyout",
       "prompt_number": 59,
       "text": [
        "['YEAR',\n",
        " 'ACERECODE',\n",
        " 'SUBJID',\n",
        " 'COMPGROUP2',\n",
        " 'COMPGROUP3',\n",
        " 'SELECTIVITY',\n",
        " 'STUDSTAT',\n",
        " 'NORMSTAT',\n",
        " 'STUDWGT',\n",
        " 'HSTYPE2',\n",
        " 'HSTYPE1',\n",
        " 'YRGRADHS',\n",
        " 'RACEHS',\n",
        " 'RACENEIB',\n",
        " 'YRSTUDY1',\n",
        " 'YRSTUDY2',\n",
        " 'YRSTUDY3',\n",
        " 'YRSTUDY4',\n",
        " 'YRSTUDY5',\n",
        " 'YRSTUDY6',\n",
        " 'YRSTUDY7',\n",
        " 'YRSTUDY8',\n",
        " 'YRSTUDY1_T2',\n",
        " 'YRSTUDY2_T2',\n",
        " 'YRSTUDY3_T2',\n",
        " 'YRSTUDY4_T2',\n",
        " 'YRSTUDY5_T2',\n",
        " 'YRSTUDY6_T2',\n",
        " 'YRSTUDY7_T2',\n",
        " 'YRSTUDY84_N',\n",
        " 'HADREM1',\n",
        " 'HADREM2',\n",
        " 'HADREM3',\n",
        " 'HADREM4',\n",
        " 'HADREM5',\n",
        " 'HADREM6',\n",
        " 'HADREM7',\n",
        " 'HADREM781_N',\n",
        " 'HADREM782_N',\n",
        " 'HADREM783_N',\n",
        " 'HADREM784_N',\n",
        " 'HADREM785_N',\n",
        " 'HADREM786_N',\n",
        " 'NEEDREM1',\n",
        " 'NEEDREM2',\n",
        " 'NEEDREM3',\n",
        " 'NEEDREM4',\n",
        " 'NEEDREM5',\n",
        " 'NEEDREM6',\n",
        " 'NEEDREM7',\n",
        " 'NEEDREM761_N',\n",
        " 'NEEDREM762_N',\n",
        " 'NEEDREM763_N',\n",
        " 'NEEDREM764_N',\n",
        " 'NEEDREM765_N',\n",
        " 'NEEDREM766_N',\n",
        " 'NEEDHLP721_N',\n",
        " 'NEEDHLP722_N',\n",
        " 'NEEDHLP723_N',\n",
        " 'NEEDHLP724_N',\n",
        " 'NEEDHLP725_N',\n",
        " 'NEEDHLP726_N',\n",
        " 'HSGPA',\n",
        " 'SATV',\n",
        " 'SATM',\n",
        " 'SATW',\n",
        " 'ACTCOMP',\n",
        " 'APCOURSE',\n",
        " 'APEXAM',\n",
        " 'TOOKHON_N',\n",
        " 'TOOKAP_N',\n",
        " 'APCOURSE_T2',\n",
        " 'APEXAM_T2',\n",
        " 'HSRANK01',\n",
        " 'HSRANK02',\n",
        " 'HSYEAR_T2',\n",
        " 'HSPROGRAM_T2',\n",
        " 'HSCOLLEGE72_T2',\n",
        " 'HSTEST01_T2',\n",
        " 'HSTEST02_T2',\n",
        " 'HSTEST03_T2',\n",
        " 'HSTEST77_N',\n",
        " 'PREP01_T2',\n",
        " 'PREP02_T2',\n",
        " 'PREP03_T2',\n",
        " 'PREP04_T2',\n",
        " 'PREP05_T2',\n",
        " 'PREP06_T2',\n",
        " 'PREP07_T2',\n",
        " 'PREP08_T2',\n",
        " 'HSTYPE04_N',\n",
        " 'HSPOP72_N',\n",
        " 'HSGPA07_N',\n",
        " 'HSACCOMPLISH7101_N',\n",
        " 'HSACCOMPLISH7102_N',\n",
        " 'HSACCOMPLISH7103_N',\n",
        " 'HSACCOMPLISH7104_N',\n",
        " 'HSACCOMPLISH7105_N',\n",
        " 'HSACCOMPLISH7106_N',\n",
        " 'HSACCOMPLISH7107_N',\n",
        " 'HSACCOMPLISH7108_N',\n",
        " 'HSACCOMPLISH7109_N',\n",
        " 'HSACCOMPLISH7110_N',\n",
        " 'HSACCOMPLISH7111_N',\n",
        " 'HSACCOMPLISH7112_N',\n",
        " 'CSVREQ',\n",
        " 'CSVACT0401_N',\n",
        " 'CSVACT0402_N',\n",
        " 'CSVACT0403_N',\n",
        " 'CSVACT0404_N',\n",
        " 'CSVACT0405_N',\n",
        " 'CSVACT0406_N',\n",
        " 'CSVACT0407_N',\n",
        " 'CSVACT0408_N',\n",
        " 'CSVACT0409_N',\n",
        " 'CSVACT0410_N',\n",
        " 'CSVACT0411_N',\n",
        " 'CSVACT0412_N',\n",
        " 'CSVACT0413_N',\n",
        " 'CSVACT0414_N',\n",
        " 'MNDHAB01',\n",
        " 'MNDHAB02',\n",
        " 'MNDHAB03',\n",
        " 'MNDHAB04',\n",
        " 'MNDHAB05',\n",
        " 'MNDHAB06',\n",
        " 'MNDHAB07',\n",
        " 'MNDHAB08',\n",
        " 'MNDHAB09',\n",
        " 'MNDHAB10',\n",
        " 'MNDHAB11',\n",
        " 'MNDHAB12',\n",
        " 'MNDHAB07_N',\n",
        " 'MNDHAB09_N',\n",
        " 'ACT01',\n",
        " 'ACT02',\n",
        " 'ACT03',\n",
        " 'ACT04',\n",
        " 'ACT05',\n",
        " 'ACT06',\n",
        " 'ACT08',\n",
        " 'ACT09',\n",
        " 'ACT10',\n",
        " 'ACT11',\n",
        " 'ACT12',\n",
        " 'ACT14',\n",
        " 'ACT15',\n",
        " 'ACT17',\n",
        " 'ACT18',\n",
        " 'ACT19',\n",
        " 'ACT20',\n",
        " 'ACT21',\n",
        " 'ACT23',\n",
        " 'ACT24',\n",
        " 'ACT25',\n",
        " 'ACT26',\n",
        " 'ACT27',\n",
        " 'ACT28',\n",
        " 'ACT29',\n",
        " 'ACT30',\n",
        " 'ACT31',\n",
        " 'ACT32',\n",
        " 'ACT33',\n",
        " 'ACT34',\n",
        " 'ACT01_T',\n",
        " 'ACT02_T',\n",
        " 'ACT03_T',\n",
        " 'ACT04_T',\n",
        " 'ACT05_T',\n",
        " 'ACT06_T',\n",
        " 'ACT07_T',\n",
        " 'ACT08_T',\n",
        " 'ACT09_T',\n",
        " 'ACT10_T',\n",
        " 'ACT11_T',\n",
        " 'ACT12_T',\n",
        " 'ACT13_T',\n",
        " 'ACT14_T',\n",
        " 'ACT15_T',\n",
        " 'ACT16_T',\n",
        " 'ACT17_T',\n",
        " 'ACT18_T',\n",
        " 'ACT19_T',\n",
        " 'ACT20_T',\n",
        " 'ACT21_T',\n",
        " 'ACT22_T',\n",
        " 'ACT23_T',\n",
        " 'ACT24_T',\n",
        " 'ACT25_T',\n",
        " 'ACT26_T',\n",
        " 'ACT27_T',\n",
        " 'ACT28_T',\n",
        " 'ACT29_T',\n",
        " 'ACT30_T',\n",
        " 'ACT31_T',\n",
        " 'ACT32_T',\n",
        " 'ACT33_T',\n",
        " 'ACT34_T',\n",
        " 'ACT35_T',\n",
        " 'ACT36_T',\n",
        " 'ACT37_T',\n",
        " 'ACT38_T',\n",
        " 'ACT39_T',\n",
        " 'ACT40_T',\n",
        " 'ACT41_T',\n",
        " 'ACT42_T',\n",
        " 'ACT43_T',\n",
        " 'ACT01_N',\n",
        " 'ACT02_N',\n",
        " 'ACT03_N',\n",
        " 'ACT04_N',\n",
        " 'ACT05_N',\n",
        " 'ACT06_N',\n",
        " 'ACT07_N',\n",
        " 'ACT08_N',\n",
        " 'ACT09_N',\n",
        " 'ACT10_N',\n",
        " 'ACT11_N',\n",
        " 'ACT12_N',\n",
        " 'ACT13_N',\n",
        " 'ACT14_N',\n",
        " 'ACT15_N',\n",
        " 'ACT16_N',\n",
        " 'ACT17_N',\n",
        " 'ACT18_N',\n",
        " 'ACT19_N',\n",
        " 'ACT20_N',\n",
        " 'ACT21_N',\n",
        " 'ACT22_N',\n",
        " 'HSACT9001_N',\n",
        " 'HSACT9002_N',\n",
        " 'HSACT9003_N',\n",
        " 'HSACT9004_N',\n",
        " 'HSACT9005_N',\n",
        " 'HSACT9006_N',\n",
        " 'HSACT9007_N',\n",
        " 'HSACT9008_N',\n",
        " 'HSACT9009_N',\n",
        " 'HSACT9101_N',\n",
        " 'HSACT9102_N',\n",
        " 'HSACT9103_N',\n",
        " 'HSACT9104_N',\n",
        " 'HSACT9105_N',\n",
        " 'HSACT9106_N',\n",
        " 'HSACT9107_N',\n",
        " 'HSACT9108_N',\n",
        " 'HSACT9109_N',\n",
        " 'ACTAPPLY7201_N',\n",
        " 'ACTAPPLY7202_N',\n",
        " 'ACTAPPLY7203_N',\n",
        " 'ACTAPPLY7204_N',\n",
        " 'ACTAPPLY7205_N',\n",
        " 'ACTAPPLY7206_N',\n",
        " 'ACTAPPLY7207_N',\n",
        " 'ACTAPPLY7208_N',\n",
        " 'ACTAPPLY7209_N',\n",
        " 'ACTAPPLY7210_N',\n",
        " 'ACTAPPLY7211_N',\n",
        " 'ACTAPPLY7212_N',\n",
        " 'ACTAPPLY7213_N',\n",
        " 'ACTAPPLY7214_N',\n",
        " 'ACTAPPLY7215_N',\n",
        " 'OLDACT7701_N',\n",
        " 'OLDACT7702_N',\n",
        " 'OLDACT7703_N',\n",
        " 'OLDACT7704_N',\n",
        " 'OLDACT7705_N',\n",
        " 'OLDACT7706_N',\n",
        " 'OLDACT7707_N',\n",
        " 'OLDACT7708_N',\n",
        " 'OLDACT7709_N',\n",
        " 'OLDACT7710_N',\n",
        " 'OLDACT7711_N',\n",
        " 'OLDACT7712_N',\n",
        " 'OLDACT7713_N',\n",
        " 'OLDACT7714_N',\n",
        " 'OLDACT7715_N',\n",
        " 'OLDACT7716_N',\n",
        " 'OLDACT7717_N',\n",
        " 'OLDACT7718_N',\n",
        " 'OLDACT7719_N',\n",
        " 'HPW01',\n",
        " 'HPW02',\n",
        " 'HPW03',\n",
        " 'HPW04',\n",
        " 'HPW05',\n",
        " 'HPW06',\n",
        " 'HPW07',\n",
        " 'HPW08',\n",
        " 'HPW09',\n",
        " 'HPW10',\n",
        " 'HPW11',\n",
        " 'HPW12',\n",
        " 'HPW13',\n",
        " 'HPW14',\n",
        " 'HPW15',\n",
        " 'HPW01_T2',\n",
        " 'HPW8601_N',\n",
        " 'HPW8602_N',\n",
        " 'HPW8603_N',\n",
        " 'HPW8604_N',\n",
        " 'HPW8605_N',\n",
        " 'HPW8606_N',\n",
        " 'HPW8607_N',\n",
        " 'HPW8608_N',\n",
        " 'HPW8609_N',\n",
        " 'HPW8610_N',\n",
        " 'HPW8611_N',\n",
        " 'HPW8612_N',\n",
        " 'DIVRATE1',\n",
        " 'DIVRATE2',\n",
        " 'DIVRATE3',\n",
        " 'DIVRATE4',\n",
        " 'DIVRATE5',\n",
        " 'RATE01',\n",
        " 'RATE02',\n",
        " 'RATE03',\n",
        " 'RATE04',\n",
        " 'RATE05',\n",
        " 'RATE06',\n",
        " 'RATE07',\n",
        " 'RATE08',\n",
        " 'RATE09',\n",
        " 'RATE10',\n",
        " 'RATE11',\n",
        " 'RATE12',\n",
        " 'RATE13',\n",
        " 'RATE14',\n",
        " 'RATE15',\n",
        " 'RATE16',\n",
        " 'RATE17',\n",
        " 'RATE18',\n",
        " 'RATE19',\n",
        " 'RATE20',\n",
        " 'RATE01_T',\n",
        " 'RATE02_T',\n",
        " 'RATE03_T',\n",
        " 'RATE04_T',\n",
        " 'RATE05_T',\n",
        " 'RATE06_T',\n",
        " 'RATE07_T',\n",
        " 'RATE08_T',\n",
        " 'RATE09_T',\n",
        " 'RATE10_T',\n",
        " 'RATE11_T',\n",
        " 'RATE12_T',\n",
        " 'RATE13_T',\n",
        " 'RATE14_T',\n",
        " 'RATE15_T',\n",
        " 'RATE16_T',\n",
        " 'RATE8301_N',\n",
        " 'RATE8302_N',\n",
        " 'RATE8303_N',\n",
        " 'RATE8383_N',\n",
        " 'RATE8305_N',\n",
        " 'RATE8306_N',\n",
        " 'RATE8307_N',\n",
        " 'RATE8308_N',\n",
        " 'RATE8309_N',\n",
        " 'RATE8310_N',\n",
        " 'RATE8311_N',\n",
        " 'RATE0401_N',\n",
        " 'RATE0402_N',\n",
        " 'RATE0403_N',\n",
        " 'RATE0404_N',\n",
        " 'RATE0405_N',\n",
        " 'RATE0406_N',\n",
        " 'RATE0407_N',\n",
        " 'RATE0408_N',\n",
        " 'RATE0409_N',\n",
        " 'RATE0410_N',\n",
        " 'RATE0411_N',\n",
        " 'RATE0412_N',\n",
        " 'RATE0413_N',\n",
        " 'RATE0414_N',\n",
        " 'RATE0415_N',\n",
        " 'RATE0416_N',\n",
        " 'RATE0417_N',\n",
        " 'RATE0418_N',\n",
        " 'RATE0419_N',\n",
        " 'RATE0420_N',\n",
        " 'RATE0421_N',\n",
        " 'RATE0422_N',\n",
        " 'RATE0423_N',\n",
        " 'RATE0424_N',\n",
        " 'RATE95_N',\n",
        " 'COMPET8701_N',\n",
        " 'COMPET8702_N',\n",
        " 'COMPET8703_N',\n",
        " 'COMPET8704_N',\n",
        " 'COMPET8705_N',\n",
        " 'COMPET8706_N',\n",
        " 'COMPET8707_N',\n",
        " 'COMPET8708_N',\n",
        " 'COMPET8709_N',\n",
        " 'COMPET8710_N',\n",
        " 'COMPET8711_N',\n",
        " 'COMPET8712_N',\n",
        " 'COMPET8713_N',\n",
        " 'COMPET8714_N',\n",
        " 'COMPET8715_N']"
       ]
      }
     ],
     "prompt_number": 59
    },
    {
     "cell_type": "code",
     "collapsed": false,
     "input": [
      "columns = ['YEAR', 'SUBJID', 'HSGPA', 'SATV', 'SATM', 'SATW', 'ACTCOMP', \n",
      "           'ACT08', 'ACT09', 'ACT21', 'ACT25', 'ACT28', 'ACT29', 'ACT17_T',\n",
      "           'ACT21_T', 'ACT24_T']\n",
      "indices = [header.index(col) for col in columns]\n",
      "indices"
     ],
     "language": "python",
     "metadata": {},
     "outputs": [
      {
       "metadata": {},
       "output_type": "pyout",
       "prompt_number": 63,
       "text": [
        "[0, 2, 62, 63, 64, 65, 66, 140, 141, 151, 154, 157, 158, 180, 184, 187]"
       ]
      }
     ],
     "prompt_number": 63
    },
    {
     "cell_type": "code",
     "collapsed": false,
     "input": [
      "for line in reader:\n",
      "    print line\n",
      "    break"
     ],
     "language": "python",
     "metadata": {},
     "outputs": [
      {
       "output_type": "stream",
       "stream": "stdout",
       "text": [
        "['YEAR', 'ACERECODE', 'SUBJID', 'COMPGROUP2', 'COMPGROUP3', 'SELECTIVITY', 'STUDSTAT', 'NORMSTAT', 'STUDWGT', 'PERMIT', 'DOBMM', 'DOBYY', 'HOMEZIP', 'SEX', 'AGE1', 'AGE2', 'RACE1', 'RACE2', 'RACE3', 'RACE4', 'RACE5', 'RACE6', 'RACE7', 'RACE8', 'RACE9', 'RACEGROUP', 'RRACE', 'RACE9701_N', 'RACE9702_N', 'RACE9703_N', 'RACE9704_N', 'RACE9705_N', 'RACE9706_N', 'RACE9707_N', 'RACE9708_N', 'RACE9709_N', 'RACE9710_N', 'RACE9711_N', 'RACE9712_N', 'RACE9713_N', 'FETHNIC72_N', 'METHNIC72_N', 'SETHNIC72_N', 'NATENGSP', 'MARITAL', 'CITIZEN', 'DISAB1', 'DISAB2', 'DISAB3', 'DISAB4', 'DISAB5', 'DISAB6', 'DISAB7', 'DISAB8', 'DISAB98_N', 'HANDICAP1_T2', 'DISAB101_T2', 'DISAB102_T2', 'DISAB103_T2', 'DISAB104_T2', 'DISAB105_T2', 'DISAB106_T2', 'HANDICAP2_T2', 'DISAB201_T2', 'DISAB202_T2', 'DISAB203_T2', 'DISAB204_T2', 'DISAB205_T2', 'DISAB206_T2', 'DISAB207_T2', 'HANDICAPPACC_T2', 'STUDBORN', 'SRELIGIONA', 'BORNAGAIN', 'BORNAGAIN_T2', 'BORNAGAIN81_N', 'BORNAGAIN07_N', 'EVANGEL', 'PARBORN', 'INCOME', 'PARSTAT', 'FATHEDUC', 'MOTHEDUC', 'SPEDUC72_N', 'FIRSTGEN', 'FCAREERA', 'MCAREERA', 'SPCAREERA_N', 'FRELIGIONA', 'MRELIGIONA', 'NDEPPAR', 'NDEPCOL', 'INDEP1_T2', 'INDEP2_T2', 'VETERAN', 'FULLSTAT', 'FULLSTAT72_N', 'TWINSTAT', 'SIBLIVE1_T2', 'SIBLIVE2_T2', 'SIBLIVE3_T2', 'SIBLIVE4_T2', 'GROWSTAT1_T2', 'GROWSTAT2_T2', 'GROWSTAT3_T2', 'GROWSTAT4_T2', 'GROWSTAT5_T2', 'PLANCOL1_T2', 'PLANCOL2_T2', 'PLANCOL3_T2', 'DESCRIBE1_T2', 'DESCRIBE2_T2', 'DESCRIBE3_T2', 'DESCRIBE4_T2', 'DESCRIBE5_T2', 'LEGACY_T2', 'TOWN72_N', 'FEMPLOYED72_N', 'MEMPLOYED72_N', 'INDEPINCOME74_N', 'CHILD76_N', 'CHILDEP76_N', 'VIEWPARENTS891_N', 'VIEWPARENTS892_N', 'VIEWPARENTS893_N', 'VIEWPARENTS894_N', 'VIEWPARENTS895_N', 'VIEWPARENTS896_N', 'VIEWPARENTS897_N', 'VIEWPARENTS898_N', 'ADOPT98_N', 'FOSTER98_N', 'FIRSTVISIT03_N', 'SUMRES04_N', 'HSURES04_N', 'LIVWITH041_N', 'LIVWITH042_N', 'LIVWITH043_N', 'LIVWITH044_N', 'LIVWITH045_N', 'LIVWITH046_N', 'LIVWITH047_N', 'SURVTYPE']\n"
       ]
      }
     ],
     "prompt_number": 14
    },
    {
     "cell_type": "code",
     "collapsed": false,
     "input": [],
     "language": "python",
     "metadata": {},
     "outputs": []
    }
   ],
   "metadata": {}
  }
 ]
}